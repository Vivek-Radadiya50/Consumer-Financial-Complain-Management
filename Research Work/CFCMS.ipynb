{
 "cells": [
  {
   "cell_type": "markdown",
   "id": "7e5bdc8f",
   "metadata": {
    "papermill": {
     "duration": 0.031996,
     "end_time": "2021-09-05T10:43:18.354142",
     "exception": false,
     "start_time": "2021-09-05T10:43:18.322146",
     "status": "completed"
    },
    "tags": []
   },
   "source": [
    "## <u>Introduction</u>\n",
    "\n",
    "The dataframe consists of <b>162421</b> complaints for <b>5 products</b>. The dataframe is considerably <b>imbalanced</b>. \n",
    "\n",
    "The notebook implements <b>Bi-LSTM</b> model for <b>multiclass</b> classification of product complaints. Based on the provided <b>complaints</b>, the goal of the notebook is to accurately <b>identify the product</b>.    "
   ]
  },
  {
   "cell_type": "markdown",
   "id": "f2a5662a",
   "metadata": {
    "id": "worst-charlotte",
    "papermill": {
     "duration": 0.030629,
     "end_time": "2021-09-05T10:43:18.478175",
     "exception": false,
     "start_time": "2021-09-05T10:43:18.447546",
     "status": "completed"
    },
    "tags": []
   },
   "source": [
    "# Libraries"
   ]
  },
  {
   "cell_type": "code",
   "execution_count": 1,
   "id": "09ff8bf5",
   "metadata": {
    "id": "A9VsJVnuaACm",
    "outputId": "30d3a9ed-86c4-426e-a320-84a4da0ec376",
    "papermill": {
     "duration": 5.331701,
     "end_time": "2021-09-05T10:43:23.840624",
     "exception": false,
     "start_time": "2021-09-05T10:43:18.508923",
     "status": "completed"
    },
    "tags": []
   },
   "outputs": [],
   "source": [
    "import pandas as pd\n",
    "import re\n",
    "import matplotlib.pyplot as plt\n",
    "import tensorflow as tf\n",
    "import numpy as np\n",
    "import nltk\n",
    "import string\n",
    "import matplotlib.pyplot as plt\n",
    "import seaborn as sns\n",
    "from sklearn.feature_extraction.text import TfidfTransformer\n",
    "from sklearn.feature_extraction.text import TfidfVectorizer\n",
    "\n",
    "from sklearn.feature_extraction.text import CountVectorizer\n",
    "from sklearn.metrics import confusion_matrix\n",
    "from sklearn import metrics\n",
    "from sklearn.metrics import roc_curve, auc\n",
    "from nltk.stem.porter import PorterStemmer\n"
   ]
  },
  {
   "cell_type": "markdown",
   "id": "abaf14e6",
   "metadata": {
    "id": "dominant-bible",
    "papermill": {
     "duration": 0.032025,
     "end_time": "2021-09-05T10:43:23.904378",
     "exception": false,
     "start_time": "2021-09-05T10:43:23.872353",
     "status": "completed"
    },
    "tags": []
   },
   "source": [
    "# 1. Reading and Analysing DataFrame"
   ]
  },
  {
   "cell_type": "code",
   "execution_count": 2,
   "id": "93068906",
   "metadata": {
    "id": "_t2QAwXNRj6q",
    "outputId": "db0e95ab-d7d5-4119-d103-5094363d0e68",
    "papermill": {
     "duration": 1.901557,
     "end_time": "2021-09-05T10:43:25.837099",
     "exception": false,
     "start_time": "2021-09-05T10:43:23.935542",
     "status": "completed"
    },
    "tags": []
   },
   "outputs": [
    {
     "data": {
      "text/html": [
       "<div>\n",
       "<style scoped>\n",
       "    .dataframe tbody tr th:only-of-type {\n",
       "        vertical-align: middle;\n",
       "    }\n",
       "\n",
       "    .dataframe tbody tr th {\n",
       "        vertical-align: top;\n",
       "    }\n",
       "\n",
       "    .dataframe thead th {\n",
       "        text-align: right;\n",
       "    }\n",
       "</style>\n",
       "<table border=\"1\" class=\"dataframe\">\n",
       "  <thead>\n",
       "    <tr style=\"text-align: right;\">\n",
       "      <th></th>\n",
       "      <th>Unnamed: 0</th>\n",
       "      <th>product</th>\n",
       "      <th>narrative</th>\n",
       "    </tr>\n",
       "  </thead>\n",
       "  <tbody>\n",
       "    <tr>\n",
       "      <th>0</th>\n",
       "      <td>0</td>\n",
       "      <td>credit_card</td>\n",
       "      <td>purchase order day shipping amount receive pro...</td>\n",
       "    </tr>\n",
       "    <tr>\n",
       "      <th>1</th>\n",
       "      <td>1</td>\n",
       "      <td>credit_card</td>\n",
       "      <td>forwarded message date tue subject please inve...</td>\n",
       "    </tr>\n",
       "    <tr>\n",
       "      <th>2</th>\n",
       "      <td>2</td>\n",
       "      <td>retail_banking</td>\n",
       "      <td>forwarded message cc sent friday pdt subject f...</td>\n",
       "    </tr>\n",
       "    <tr>\n",
       "      <th>3</th>\n",
       "      <td>3</td>\n",
       "      <td>credit_reporting</td>\n",
       "      <td>payment history missing credit report speciali...</td>\n",
       "    </tr>\n",
       "    <tr>\n",
       "      <th>4</th>\n",
       "      <td>4</td>\n",
       "      <td>credit_reporting</td>\n",
       "      <td>payment history missing credit report made mis...</td>\n",
       "    </tr>\n",
       "  </tbody>\n",
       "</table>\n",
       "</div>"
      ],
      "text/plain": [
       "   Unnamed: 0           product  \\\n",
       "0           0       credit_card   \n",
       "1           1       credit_card   \n",
       "2           2    retail_banking   \n",
       "3           3  credit_reporting   \n",
       "4           4  credit_reporting   \n",
       "\n",
       "                                           narrative  \n",
       "0  purchase order day shipping amount receive pro...  \n",
       "1  forwarded message date tue subject please inve...  \n",
       "2  forwarded message cc sent friday pdt subject f...  \n",
       "3  payment history missing credit report speciali...  \n",
       "4  payment history missing credit report made mis...  "
      ]
     },
     "execution_count": 2,
     "metadata": {},
     "output_type": "execute_result"
    }
   ],
   "source": [
    "# Reading dataframe\n",
    "df = pd.read_csv('complaints_processed.csv')\n",
    "df.head()"
   ]
  },
  {
   "cell_type": "code",
   "execution_count": 3,
   "id": "c7433fcb",
   "metadata": {
    "id": "mechanical-baseline",
    "outputId": "5e688e57-f823-4dd7-85ca-5ccab76031c4",
    "papermill": {
     "duration": 0.052019,
     "end_time": "2021-09-05T10:43:25.921175",
     "exception": false,
     "start_time": "2021-09-05T10:43:25.869156",
     "status": "completed"
    },
    "tags": []
   },
   "outputs": [
    {
     "data": {
      "text/html": [
       "<div>\n",
       "<style scoped>\n",
       "    .dataframe tbody tr th:only-of-type {\n",
       "        vertical-align: middle;\n",
       "    }\n",
       "\n",
       "    .dataframe tbody tr th {\n",
       "        vertical-align: top;\n",
       "    }\n",
       "\n",
       "    .dataframe thead th {\n",
       "        text-align: right;\n",
       "    }\n",
       "</style>\n",
       "<table border=\"1\" class=\"dataframe\">\n",
       "  <thead>\n",
       "    <tr style=\"text-align: right;\">\n",
       "      <th></th>\n",
       "      <th>product</th>\n",
       "      <th>tweet</th>\n",
       "    </tr>\n",
       "  </thead>\n",
       "  <tbody>\n",
       "    <tr>\n",
       "      <th>0</th>\n",
       "      <td>credit_card</td>\n",
       "      <td>purchase order day shipping amount receive pro...</td>\n",
       "    </tr>\n",
       "    <tr>\n",
       "      <th>1</th>\n",
       "      <td>credit_card</td>\n",
       "      <td>forwarded message date tue subject please inve...</td>\n",
       "    </tr>\n",
       "    <tr>\n",
       "      <th>2</th>\n",
       "      <td>retail_banking</td>\n",
       "      <td>forwarded message cc sent friday pdt subject f...</td>\n",
       "    </tr>\n",
       "    <tr>\n",
       "      <th>3</th>\n",
       "      <td>credit_reporting</td>\n",
       "      <td>payment history missing credit report speciali...</td>\n",
       "    </tr>\n",
       "    <tr>\n",
       "      <th>4</th>\n",
       "      <td>credit_reporting</td>\n",
       "      <td>payment history missing credit report made mis...</td>\n",
       "    </tr>\n",
       "  </tbody>\n",
       "</table>\n",
       "</div>"
      ],
      "text/plain": [
       "            product                                              tweet\n",
       "0       credit_card  purchase order day shipping amount receive pro...\n",
       "1       credit_card  forwarded message date tue subject please inve...\n",
       "2    retail_banking  forwarded message cc sent friday pdt subject f...\n",
       "3  credit_reporting  payment history missing credit report speciali...\n",
       "4  credit_reporting  payment history missing credit report made mis..."
      ]
     },
     "execution_count": 3,
     "metadata": {},
     "output_type": "execute_result"
    }
   ],
   "source": [
    "# Renaming columns \n",
    "df = df.rename(columns={'narrative':'tweet' })\n",
    "\n",
    "# Removing SNo column\n",
    "df.drop(['Unnamed: 0'], axis=1, inplace=True)\n",
    "df.head()"
   ]
  },
  {
   "cell_type": "code",
   "execution_count": 4,
   "id": "b1a8969f",
   "metadata": {
    "id": "referenced-recipe",
    "outputId": "4ea1ecd2-5af3-4d95-badc-ff8ce09c4590",
    "papermill": {
     "duration": 0.089184,
     "end_time": "2021-09-05T10:43:26.042583",
     "exception": false,
     "start_time": "2021-09-05T10:43:25.953399",
     "status": "completed"
    },
    "tags": []
   },
   "outputs": [
    {
     "name": "stdout",
     "output_type": "stream",
     "text": [
      "* Size of dataframe: (162421, 2)\n",
      "\n",
      "* Datatype of columns are:\n",
      " product    object\n",
      "tweet      object\n",
      "dtype: object\n",
      "\n",
      "* Count of different product categories:\n",
      " product\n",
      "credit_reporting       91179\n",
      "debt_collection        23150\n",
      "mortgages_and_loans    18990\n",
      "credit_card            15566\n",
      "retail_banking         13536\n",
      "Name: count, dtype: int64\n",
      "\n",
      "* Number of NaNs among tweets are: 10\n",
      "\n"
     ]
    }
   ],
   "source": [
    "# Analysing dataframe attributes \n",
    "print('* Size of dataframe: {}\\n'.format(df.shape))\n",
    "print('* Datatype of columns are:\\n {}\\n'.format(df.dtypes))\n",
    "print('* Count of different product categories:\\n {}\\n'.format(df['product'].value_counts()))\n",
    "print('* Number of NaNs among tweets are: {}\\n'.format(df['tweet'].isnull().sum())) "
   ]
  },
  {
   "cell_type": "code",
   "execution_count": 5,
   "id": "3372d9ae",
   "metadata": {
    "id": "acknowledged-madrid",
    "outputId": "dae5ef6f-f21e-47d6-baca-27450d4ca8ba",
    "papermill": {
     "duration": 0.093647,
     "end_time": "2021-09-05T10:43:26.168639",
     "exception": false,
     "start_time": "2021-09-05T10:43:26.074992",
     "status": "completed"
    },
    "tags": []
   },
   "outputs": [
    {
     "name": "stdout",
     "output_type": "stream",
     "text": [
      "NaNs are removed from the dataframe. Number of NaNs can be confirmed to be 0. The size of dataframe has reduced to (162411, 2)\n"
     ]
    }
   ],
   "source": [
    "# Removing NaNs\n",
    "df = df.dropna(subset=['tweet'])\n",
    "print('NaNs are removed from the dataframe. Number of NaNs can be confirmed to be {}. The size of dataframe has reduced to {}'.format(df['tweet'].isnull().sum(), df.shape))"
   ]
  },
  {
   "cell_type": "code",
   "execution_count": 6,
   "id": "826744ef",
   "metadata": {
    "id": "numerous-consciousness",
    "outputId": "5af16dc8-8829-4225-8711-7e61b2dde457",
    "papermill": {
     "duration": 0.329367,
     "end_time": "2021-09-05T10:43:26.531287",
     "exception": false,
     "start_time": "2021-09-05T10:43:26.201920",
     "status": "completed"
    },
    "tags": []
   },
   "outputs": [
    {
     "data": {
      "text/plain": [
       "[<matplotlib.lines.Line2D at 0x1cddb302050>]"
      ]
     },
     "execution_count": 6,
     "metadata": {},
     "output_type": "execute_result"
    },
    {
     "data": {
      "image/png": "[encoded data removed]",
      "text/plain": [
       "<Figure size 640x480 with 1 Axes>"
      ]
     },
     "metadata": {},
     "output_type": "display_data"
    }
   ],
   "source": [
    "# Plotting word lenghts of tweets\n",
    "word_length = [len(x) for x in df['tweet']]\n",
    "plt.plot(word_length)"
   ]
  },
  {
   "cell_type": "code",
   "execution_count": 7,
   "id": "32e92cb3",
   "metadata": {
    "id": "anticipated-inclusion",
    "papermill": {
     "duration": 0.05197,
     "end_time": "2021-09-05T10:43:26.617798",
     "exception": false,
     "start_time": "2021-09-05T10:43:26.565828",
     "status": "completed"
    },
    "tags": []
   },
   "outputs": [],
   "source": [
    "# Converting sentences to string\n",
    "df['tweet'] = df['tweet'].astype(str)"
   ]
  },
  {
   "cell_type": "code",
   "execution_count": 8,
   "id": "519ac4b2",
   "metadata": {
    "id": "exempt-humanitarian",
    "outputId": "949b1056-f571-4883-b94c-db7729fd6c8b",
    "papermill": {
     "duration": 0.220917,
     "end_time": "2021-09-05T10:43:26.978728",
     "exception": false,
     "start_time": "2021-09-05T10:43:26.757811",
     "status": "completed"
    },
    "scrolled": true,
    "tags": []
   },
   "outputs": [
    {
     "data": {
      "image/png": "[encoded data removed]",
      "text/plain": [
       "<Figure size 640x480 with 1 Axes>"
      ]
     },
     "metadata": {},
     "output_type": "display_data"
    }
   ],
   "source": [
    "# Plotting product value counts\n",
    "df.groupby('product').count().plot(kind='bar')\n",
    "plt.show()"
   ]
  },
  {
   "cell_type": "markdown",
   "id": "b389df34-0c6d-4c16-bced-1378469220a2",
   "metadata": {},
   "source": [
    "Dataframe is <b>imbalanced</b>. Improving the balance of the dataframe can improve <b>accuracy</b>."
   ]
  },
  {
   "cell_type": "markdown",
   "id": "908ee448-07dc-4202-bb97-d6e3fd69d698",
   "metadata": {},
   "source": [
    "# 3. Text Preprocessing."
   ]
  },
  {
   "cell_type": "markdown",
   "id": "b35162dd",
   "metadata": {
    "papermill": {
     "duration": 0.034884,
     "end_time": "2021-09-05T10:43:27.050912",
     "exception": false,
     "start_time": "2021-09-05T10:43:27.016028",
     "status": "completed"
    },
    "tags": []
   },
   "source": [
    "Now that we have finished deduplication our data requires some preprocessing before we go on further with analysis and making the prediction model.\n",
    "\n",
    "Hence in the Preprocessing phase we do the following in the order below:-\n",
    "\n",
    "1. Begin by removing the html tags\n",
    "2. Remove any punctuations or limited set of special characters like , or . or # etc.\n",
    "3. Check if the word is made up of english letters and is not alpha-numeric\n",
    "4. Check to see if the length of the word is greater than 2 (as it was researched that there is no adjective in 2-letters)\n",
    "5. Convert the word to lowercase\n",
    "6. Remove Stopwords\n",
    "7. Finally Snowball Stemming the word (it was obsereved to be better than Porter Stemming)<br>\n",
    "\n",
    "After which we collect the words used to describe positive and negative reviews"
   ]
  },
  {
   "cell_type": "code",
   "execution_count": 9,
   "id": "cfcd601a-e8a6-405f-9c56-a1914ee08a8a",
   "metadata": {},
   "outputs": [
    {
     "name": "stdout",
     "output_type": "stream",
     "text": [
      "beginning mortgage held mb financial mb mortgage portfolio purchased bank first quarter mb financial customer began fall behind mortgage payment due unemployment divorce house went foreclosure later sheriff sale home scheduled morning submitted hardship application end documentation specific date letter dated acknowledges application discussed next step never received written verbal confirmation regarding status hardship application day scheduled sheriff sale communication way sale never provided clear determination application made payment brought account current able taking loan group friend would lost home sheriff auction day sale received express mail letter dated date scheduled sheriff sale saying hardship application approved detail trial payment plan received letter timeframe required promised would take full loan friend would made required payment delay review option held numerous call since large payment told trial plan leading loan modification place payment plan fact made brought account current documentation effect extending one call confirm status mortgage department even made branch local branch manager line ensure misunderstanding aspect found process confusing told call branch manager participated could expect receive loan modification agreement end happen told subsequent call would receive end still happened week ago became concerned process might impacted covid pandemic call told loan modification going happen made payment bring account current never told conversation written communication since hardship application submitted end told would need resubmit hardship application go process approved would put overall timeframe modify mortgage nearly year assuming submitted took day review made monthly payment took another one two month get agreement hold two business significant financial responsibility unintelligent lacking understanding fiscal matter found experience absolutely frustrating held commitment submitting cfpb hope might rectify situation potentially others interim planning applying covid hardship forbearance separate reapplication hardship program\n",
      "==================================================\n",
      "please provide actual credit card contract upon complaint based please provide contract agreement assignment mean demonstrating plaintiff authority legally entitled collect alleged debt please furnish reasonable proof original copy assignment agreement assignment agreement transferring alleged contract account question capital one bank show assignment made real party interest please provide copy assignment capital one bank please provide evidence defendant alleged debt plaintiff including specifically alleged contract plaintiff defendant instrument constructed solely purpose creating loan agreement plaintiff defendant bearing defendant signature please produce contract legally requires defendant pay amount entered complaint please provide original copy account agreement state interest rate grace period finance charge assignment specifically state law agreement account governed plus important fact please provide copy amount paid consideration due alleged please provide evidence authorization plaintiff business create loan issue extend credit collect debt operate state plaintiff conduct business please provide evidence authorization plaintiff attorney business create loan issue extend credit collect debt operate financial business state california please provide document document prof send defendant notification assignment account assignment right please attach notice sent defendant plaintiff regard account demanding payment please attach copy statement generated alleged account open plaintiff please attach complete accurate history interest charged alleged account plaintiff show exact date interest rate changed list various rate charged debt please attach notice sent defendant plaintiff announcing change interest fee penalty term alleged debt identify credit reporting agency credit bureau plaintiff reported defendant debt date report please provide original dunning letter sent defendant please attach notice sent defendant plaintiff regard account announcing transfer assignment credit card account plaintiff collection agency collection attorney please attach copy agreement plaintiff grant attorney authority collect alleged debt\n",
      "==================================================\n",
      "collection account removed credit report credit decreased point credit score increased least point collection account removed credit report\n",
      "==================================================\n",
      "receiving current copy credit report discovered entry identified inquiry qualified deletion report\n",
      "==================================================\n"
     ]
    }
   ],
   "source": [
    "sent_10 = df['tweet'].values[10]\n",
    "print(sent_10)\n",
    "print(\"=\"*50)\n",
    "\n",
    "sent_1000 = df['tweet'].values[1000]\n",
    "print(sent_1000)\n",
    "print(\"=\"*50)\n",
    "\n",
    "sent_1500 = df['tweet'].values[1500]\n",
    "print(sent_1500)\n",
    "print(\"=\"*50)\n",
    "\n",
    "sent_4900 = df['tweet'].values[4900]\n",
    "print(sent_4900)\n",
    "print(\"=\"*50)"
   ]
  },
  {
   "cell_type": "code",
   "execution_count": 10,
   "id": "1f0b3824-e911-403d-99ae-34ab14e6022e",
   "metadata": {},
   "outputs": [],
   "source": [
    "contractions = {\n",
    "\"ain't\": \"am not\",\n",
    "\"aren't\": \"are not\",\n",
    "\"can't\": \"cannot\",\n",
    "\"can't've\": \"cannot have\",\n",
    "\"'cause\": \"because\",\n",
    "\"could've\": \"could have\",\n",
    "\"couldn't\": \"could not\",\n",
    "\"couldn't've\": \"could not have\",\n",
    "\"didn't\": \"did not\",\n",
    "\"doesn't\": \"does not\",\n",
    "\"don't\": \"do not\",\n",
    "\"hadn't\": \"had not\",\n",
    "\"hadn't've\": \"had not have\",\n",
    "\"hasn't\": \"has not\",\n",
    "\"haven't\": \"have not\",\n",
    "\"he'd\": \"he would\",\n",
    "\"he'd've\": \"he would have\",\n",
    "\"he'll\": \"he will\",\n",
    "\"he'll've\": \"he will have\",\n",
    "\"he's\": \"he is\",\n",
    "\"how'd\": \"how did\",\n",
    "\"how'd'y\": \"how do you\",\n",
    "\"how'll\": \"how will\",\n",
    "\"how's\": \"how is\",\n",
    "\"i'd\": \"I would\",\n",
    "\"i'd've\": \"I would have\",\n",
    "\"i'll\": \"I will\",\n",
    "\"i'll've\": \"I will have\",\n",
    "\"i'm\": \"I am\",\n",
    "\"i've\": \"I have\",\n",
    "\"isn't\": \"is not\",\n",
    "\"it'd\": \"it had\",\n",
    "\"it'd've\": \"it would have\",\n",
    "\"it'll\": \"it will\",\n",
    "\"it'll've\": \"it will have\",\n",
    "\"it's\": \"it is\",\n",
    "\"let's\": \"let us\",\n",
    "\"ma'am\": \"madam\",\n",
    "\"mayn't\": \"may not\",\n",
    "\"might've\": \"might have\",\n",
    "\"mightn't\": \"might not\",\n",
    "\"mightn't've\": \"might not have\",\n",
    "\"must've\": \"must have\",\n",
    "\"mustn't\": \"must not\",\n",
    "\"mustn't've\": \"must not have\",\n",
    "\"needn't\": \"need not\",\n",
    "\"needn't've\": \"need not have\",\n",
    "\"o'clock\": \"of the clock\",\n",
    "\"oughtn't\": \"ought not\",\n",
    "\"oughtn't've\": \"ought not have\",\n",
    "\"shan't\": \"shall not\",\n",
    "\"sha'n't\": \"shall not\",\n",
    "\"shan't've\": \"shall not have\",\n",
    "\"she'd\": \"she would\",\n",
    "\"she'd've\": \"she would have\",\n",
    "\"she'll\": \"she will\",\n",
    "\"she'll've\": \"she will have\",\n",
    "\"she's\": \"she is\",\n",
    "\"should've\": \"should have\",\n",
    "\"shouldn't\": \"should not\",\n",
    "\"shouldn't've\": \"should not have\",\n",
    "\"so've\": \"so have\",\n",
    "\"so's\": \"so as\",\n",
    "\"that'd\": \"that would\",\n",
    "\"that'd've\": \"that would have\",\n",
    "\"that's\": \"that has\",\n",
    "\"there'd\": \"there had\",\n",
    "\"there'd've\": \"there would have\",\n",
    "\"there's\": \"there has\",\n",
    "\"they'd\": \"they had\",\n",
    "\"they'd've\": \"they would have\",\n",
    "\"they'll\": \"they shall\",\n",
    "\"they'll've\": \"they shall have\",\n",
    "\"they're\": \"they are\",\n",
    "\"they've\": \"they have\",\n",
    "\"to've\": \"to have\",\n",
    "\"wasn't\": \"was not\",\n",
    "\"we'd\": \"we had\",\n",
    "\"we'd've\": \"we would have\",\n",
    "\"we'll\": \"we will\",\n",
    "\"we'll've\": \"we will have\",\n",
    "\"we're\": \"we are\",\n",
    "\"we've\": \"we have\",\n",
    "\"weren't\": \"were not\",\n",
    "\"what'll\": \"what shall\",\n",
    "\"what'll've\": \"what shall have\",\n",
    "\"what're\": \"what are\",\n",
    "\"what's\": \"what has\",\n",
    "\"what've\": \"what have\",\n",
    "\"when's\": \"when has\",\n",
    "\"when've\": \"when have\",\n",
    "\"where'd\": \"where did\",\n",
    "\"where's\": \"where has\",\n",
    "\"where've\": \"where have\",\n",
    "\"who'll\": \"who shall\",\n",
    "\"who'll've\": \"who shall have\",\n",
    "\"who's\": \"who has\",\n",
    "\"who've\": \"who have\",\n",
    "\"why's\": \"why has\",\n",
    "\"why've\": \"why have\",\n",
    "\"will've\": \"will have\",\n",
    "\"won't\": \"will not\",\n",
    "\"won't've\": \"will not have\",\n",
    "\"would've\": \"would have\",\n",
    "\"wouldn't\": \"would not\",\n",
    "\"wouldn't've\": \"would not have\",\n",
    "\"y'all\": \"you all\",\n",
    "\"y'all'd\": \"you all would\",\n",
    "\"y'all'd've\": \"you all would have\",\n",
    "\"y'all're\": \"you all are\",\n",
    "\"y'all've\": \"you all have\",\n",
    "\"you'd\": \"you had\",\n",
    "\"you'd've\": \"you would have\",\n",
    "\"you'll\": \"you shall\",\n",
    "\"you'll've\": \"you shall have\",\n",
    "\"you're\": \"you are\",\n",
    "\"you've\": \"you have\"\n",
    "}\n",
    "\n",
    "from nltk.tokenize import word_tokenize\n",
    "def full_word(text):\n",
    "    for word in text.split():\n",
    "        if word.lower() in contractions:\n",
    "            text = text.replace(word, contractions[word.lower()])\n",
    "    return text\n",
    "\n",
    "df['tweet'] = df['tweet'].apply(full_word)"
   ]
  },
  {
   "cell_type": "code",
   "execution_count": 11,
   "id": "e259e902-46db-4c69-8b25-1ddb6cc20882",
   "metadata": {},
   "outputs": [],
   "source": [
    "from bs4 import BeautifulSoup\n",
    "\n",
    "#removing HTML tags\n",
    "def remove_http(text):\n",
    "    return re.sub(r\"http\\S+\", \"\", text).strip()\n",
    "\n",
    "#Remove puncuation\n",
    "def remove_punc(text):\n",
    "    return re.sub('[^A-Za-z0-9]+', ' ',text).strip()\n",
    "\n",
    "#Remove no or alphanumeric words\n",
    "def remove_numbers(text):\n",
    "    return re.sub(r'\\S*\\d\\S*', '', text).strip()\n",
    "\n",
    "#Convert to lowercase\n",
    "\n",
    "def lowercase(text):\n",
    "    lower = None\n",
    "    if text is None:\n",
    "        return \"\"  \n",
    "    return text.lower()\n",
    "\n",
    "\n",
    "# Apply the function to the DataFrame column\n",
    "df['tweet'] = df['tweet'].apply(remove_http)\n",
    "df['tweet'] = df['tweet'].apply(remove_punc)\n",
    "df['tweet'] = df['tweet'].apply(remove_numbers)\n",
    "df['tweet'] = df['tweet'].apply(lowercase)\n"
   ]
  },
  {
   "cell_type": "code",
   "execution_count": 12,
   "id": "5cd8f2b1-1b79-482f-a52c-8ff76130b9ee",
   "metadata": {},
   "outputs": [
    {
     "name": "stdout",
     "output_type": "stream",
     "text": [
      "beginning mortgage held mb financial mb mortgage portfolio purchased bank first quarter mb financial customer began fall behind mortgage payment due unemployment divorce house went foreclosure later sheriff sale home scheduled morning submitted hardship application end documentation specific date letter dated acknowledges application discussed next step never received written verbal confirmation regarding status hardship application day scheduled sheriff sale communication way sale never provided clear determination application made payment brought account current able taking loan group friend would lost home sheriff auction day sale received express mail letter dated date scheduled sheriff sale saying hardship application approved detail trial payment plan received letter timeframe required promised would take full loan friend would made required payment delay review option held numerous call since large payment told trial plan leading loan modification place payment plan fact made brought account current documentation effect extending one call confirm status mortgage department even made branch local branch manager line ensure misunderstanding aspect found process confusing told call branch manager participated could expect receive loan modification agreement end happen told subsequent call would receive end still happened week ago became concerned process might impacted covid pandemic call told loan modification going happen made payment bring account current never told conversation written communication since hardship application submitted end told would need resubmit hardship application go process approved would put overall timeframe modify mortgage nearly year assuming submitted took day review made monthly payment took another one two month get agreement hold two business significant financial responsibility unintelligent lacking understanding fiscal matter found experience absolutely frustrating held commitment submitting cfpb hope might rectify situation potentially others interim planning applying covid hardship forbearance separate reapplication hardship program\n",
      "==================================================\n",
      "please provide actual credit card contract upon complaint based please provide contract agreement assignment mean demonstrating plaintiff authority legally entitled collect alleged debt please furnish reasonable proof original copy assignment agreement assignment agreement transferring alleged contract account question capital one bank show assignment made real party interest please provide copy assignment capital one bank please provide evidence defendant alleged debt plaintiff including specifically alleged contract plaintiff defendant instrument constructed solely purpose creating loan agreement plaintiff defendant bearing defendant signature please produce contract legally requires defendant pay amount entered complaint please provide original copy account agreement state interest rate grace period finance charge assignment specifically state law agreement account governed plus important fact please provide copy amount paid consideration due alleged please provide evidence authorization plaintiff business create loan issue extend credit collect debt operate state plaintiff conduct business please provide evidence authorization plaintiff attorney business create loan issue extend credit collect debt operate financial business state california please provide document document prof send defendant notification assignment account assignment right please attach notice sent defendant plaintiff regard account demanding payment please attach copy statement generated alleged account open plaintiff please attach complete accurate history interest charged alleged account plaintiff show exact date interest rate changed list various rate charged debt please attach notice sent defendant plaintiff announcing change interest fee penalty term alleged debt identify credit reporting agency credit bureau plaintiff reported defendant debt date report please provide original dunning letter sent defendant please attach notice sent defendant plaintiff regard account announcing transfer assignment credit card account plaintiff collection agency collection attorney please attach copy agreement plaintiff grant attorney authority collect alleged debt\n",
      "==================================================\n",
      "collection account removed credit report credit decreased point credit score increased least point collection account removed credit report\n",
      "==================================================\n",
      "receiving current copy credit report discovered entry identified inquiry qualified deletion report\n",
      "==================================================\n"
     ]
    }
   ],
   "source": [
    "sent_10 = df['tweet'].values[10]\n",
    "print(sent_10)\n",
    "print(\"=\"*50)\n",
    "\n",
    "sent_1000 = df['tweet'].values[1000]\n",
    "print(sent_1000)\n",
    "print(\"=\"*50)\n",
    "\n",
    "sent_1500 = df['tweet'].values[1500]\n",
    "print(sent_1500)\n",
    "print(\"=\"*50)\n",
    "\n",
    "sent_4900 = df['tweet'].values[4900]\n",
    "print(sent_4900)\n",
    "print(\"=\"*50)"
   ]
  },
  {
   "cell_type": "code",
   "execution_count": 13,
   "id": "5ea50f74-2dc0-4b92-acd3-fec21f38092b",
   "metadata": {},
   "outputs": [],
   "source": [
    "stop_words= set(['br', 'the', 'i', 'me', 'my', 'myself', 'we', 'our', 'ours', 'ourselves', 'you', \"you're\", \"you've\",\\\n",
    "            \"you'll\", \"you'd\", 'your', 'yours', 'yourself', 'yourselves', 'he', 'him', 'his', 'himself', \\\n",
    "            'she', \"she's\", 'her', 'hers', 'herself', 'it', \"it's\", 'its', 'itself', 'they', 'them', 'their',\\\n",
    "            'theirs', 'themselves', 'what', 'which', 'who', 'whom', 'this', 'that', \"that'll\", 'these', 'those', \\\n",
    "            'am', 'is', 'are', 'was', 'were', 'be', 'been', 'being', 'have', 'has', 'had', 'having', 'do', 'does', \\\n",
    "            'did', 'doing', 'a', 'an', 'the', 'and', 'but', 'if', 'or', 'because', 'as', 'until', 'while', 'of', \\\n",
    "            'at', 'by', 'for', 'with', 'about', 'against', 'between', 'into', 'through', 'during', 'before', 'after',\\\n",
    "            'above', 'below', 'to', 'from', 'up', 'down', 'in', 'out', 'on', 'off', 'over', 'under', 'again', 'further',\\\n",
    "            'then', 'once', 'here', 'there', 'when', 'where', 'why', 'how', 'all', 'any', 'both', 'each', 'few', 'more',\\\n",
    "            'most', 'other', 'some', 'such', 'only', 'own', 'same', 'so', 'than', 'too', 'very', \\\n",
    "            's', 't', 'can', 'will', 'just', 'don', \"don't\", 'should', \"should've\", 'now', 'd', 'll', 'm', 'o', 're', \\\n",
    "            've', 'y', 'ain', 'aren', \"aren't\", 'couldn', \"couldn't\", 'didn', \"didn't\", 'doesn', \"doesn't\", 'hadn',\\\n",
    "            \"hadn't\", 'hasn', \"hasn't\", 'haven', \"haven't\", 'isn', \"isn't\", 'ma', 'mightn', \"mightn't\", 'mustn',\\\n",
    "            \"mustn't\", 'needn', \"needn't\", 'shan', \"shan't\", 'shouldn', \"shouldn't\", 'wasn', \"wasn't\", 'weren', \"weren't\", \\\n",
    "            'won', \"won't\", 'wouldn', \"wouldn't\"])\n",
    "\n",
    "\n",
    "def remove_stop_words(text):\n",
    "   \n",
    "    words = word_tokenize(text)\n",
    "    \n",
    "    filtered_words = [word for word in words if word.lower() not in stop_words]\n",
    "   \n",
    "    return ' '.join(filtered_words)\n",
    "\n",
    "df['tweet'] = df['tweet'].apply(remove_stop_words)"
   ]
  },
  {
   "cell_type": "code",
   "execution_count": 14,
   "id": "6c1529f3-2202-486c-af1e-51bdc0e53ca7",
   "metadata": {},
   "outputs": [
    {
     "name": "stdout",
     "output_type": "stream",
     "text": [
      "beginning mortgage held mb financial mb mortgage portfolio purchased bank first quarter mb financial customer began fall behind mortgage payment due unemployment divorce house went foreclosure later sheriff sale home scheduled morning submitted hardship application end documentation specific date letter dated acknowledges application discussed next step never received written verbal confirmation regarding status hardship application day scheduled sheriff sale communication way sale never provided clear determination application made payment brought account current able taking loan group friend would lost home sheriff auction day sale received express mail letter dated date scheduled sheriff sale saying hardship application approved detail trial payment plan received letter timeframe required promised would take full loan friend would made required payment delay review option held numerous call since large payment told trial plan leading loan modification place payment plan fact made brought account current documentation effect extending one call confirm status mortgage department even made branch local branch manager line ensure misunderstanding aspect found process confusing told call branch manager participated could expect receive loan modification agreement end happen told subsequent call would receive end still happened week ago became concerned process might impacted covid pandemic call told loan modification going happen made payment bring account current never told conversation written communication since hardship application submitted end told would need resubmit hardship application go process approved would put overall timeframe modify mortgage nearly year assuming submitted took day review made monthly payment took another one two month get agreement hold two business significant financial responsibility unintelligent lacking understanding fiscal matter found experience absolutely frustrating held commitment submitting cfpb hope might rectify situation potentially others interim planning applying covid hardship forbearance separate reapplication hardship program\n",
      "==================================================\n",
      "please provide actual credit card contract upon complaint based please provide contract agreement assignment mean demonstrating plaintiff authority legally entitled collect alleged debt please furnish reasonable proof original copy assignment agreement assignment agreement transferring alleged contract account question capital one bank show assignment made real party interest please provide copy assignment capital one bank please provide evidence defendant alleged debt plaintiff including specifically alleged contract plaintiff defendant instrument constructed solely purpose creating loan agreement plaintiff defendant bearing defendant signature please produce contract legally requires defendant pay amount entered complaint please provide original copy account agreement state interest rate grace period finance charge assignment specifically state law agreement account governed plus important fact please provide copy amount paid consideration due alleged please provide evidence authorization plaintiff business create loan issue extend credit collect debt operate state plaintiff conduct business please provide evidence authorization plaintiff attorney business create loan issue extend credit collect debt operate financial business state california please provide document document prof send defendant notification assignment account assignment right please attach notice sent defendant plaintiff regard account demanding payment please attach copy statement generated alleged account open plaintiff please attach complete accurate history interest charged alleged account plaintiff show exact date interest rate changed list various rate charged debt please attach notice sent defendant plaintiff announcing change interest fee penalty term alleged debt identify credit reporting agency credit bureau plaintiff reported defendant debt date report please provide original dunning letter sent defendant please attach notice sent defendant plaintiff regard account announcing transfer assignment credit card account plaintiff collection agency collection attorney please attach copy agreement plaintiff grant attorney authority collect alleged debt\n",
      "==================================================\n",
      "collection account removed credit report credit decreased point credit score increased least point collection account removed credit report\n",
      "==================================================\n",
      "receiving current copy credit report discovered entry identified inquiry qualified deletion report\n",
      "==================================================\n"
     ]
    }
   ],
   "source": [
    "sent_10 = df['tweet'].values[10]\n",
    "print(sent_10)\n",
    "print(\"=\"*50)\n",
    "\n",
    "sent_1000 = df['tweet'].values[1000]\n",
    "print(sent_1000)\n",
    "print(\"=\"*50)\n",
    "\n",
    "sent_1500 = df['tweet'].values[1500]\n",
    "print(sent_1500)\n",
    "print(\"=\"*50)\n",
    "\n",
    "sent_4900 = df['tweet'].values[4900]\n",
    "print(sent_4900)\n",
    "print(\"=\"*50)"
   ]
  },
  {
   "cell_type": "markdown",
   "id": "2d2047c9-94d8-4097-99a8-851d4fdeda5b",
   "metadata": {},
   "source": [
    "# 3. Data Preparation - Class imbalance"
   ]
  },
  {
   "cell_type": "code",
   "execution_count": 15,
   "id": "92432bd4-aa36-45a2-ac13-b1108a8b105c",
   "metadata": {},
   "outputs": [],
   "source": [
    "import pandas as pd\n",
    "from sklearn.utils import resample\n",
    "\n",
    "def undersample_text_data(X, y):\n",
    "    \"\"\"\n",
    "    Perform undersampling to balance class distribution in a dataset.\n",
    "    \n",
    "    Parameters:\n",
    "    - X (pd.Series or pd.DataFrame): Text data.\n",
    "    - y (pd.Series): Labels or target values.\n",
    "    \n",
    "    Returns:\n",
    "    - X_resampled (pd.Series or pd.DataFrame): Resampled text data.\n",
    "    - y_resampled (pd.Series): Resampled labels.\n",
    "    \"\"\"\n",
    "    # Combine text data and labels into a single DataFrame\n",
    "    data = pd.DataFrame({'text': X, 'label': y})\n",
    "    \n",
    "    # Identify the minimum class size\n",
    "    min_class_size = data['label'].value_counts().min()\n",
    "    \n",
    "    # List to hold resampled data\n",
    "    resampled_data = []\n",
    "    \n",
    "    # Perform undersampling for each class\n",
    "    for label in data['label'].unique():\n",
    "        class_data = data[data['label'] == label]\n",
    "        class_data_resampled = resample(class_data, replace=False, n_samples=min_class_size, random_state=42)\n",
    "        resampled_data.append(class_data_resampled)\n",
    "    \n",
    "    # Combine resampled data\n",
    "    resampled_data = pd.concat(resampled_data)\n",
    "    \n",
    "    # Split the resampled data back into X and y\n",
    "    X_resampled = resampled_data['text']\n",
    "    y_resampled = resampled_data['label']\n",
    "    \n",
    "    return X_resampled, y_resampled\n"
   ]
  },
  {
   "cell_type": "code",
   "execution_count": 16,
   "id": "75d797f4-9150-402f-9628-52917d74d676",
   "metadata": {},
   "outputs": [
    {
     "data": {
      "text/plain": [
       "array(['credit_card', 'retail_banking', 'credit_reporting',\n",
       "       'mortgages_and_loans', 'debt_collection'], dtype=object)"
      ]
     },
     "execution_count": 16,
     "metadata": {},
     "output_type": "execute_result"
    }
   ],
   "source": [
    "df['product'].unique()"
   ]
  },
  {
   "cell_type": "code",
   "execution_count": 17,
   "id": "6bd8a8e8-9ed5-4c34-b1d7-74da9f83d264",
   "metadata": {},
   "outputs": [],
   "source": [
    "product_mapping = {name: idx for idx, name in enumerate(df['product'].unique())}\n",
    "\n",
    "# Map the 'product' column to integers using the mapping\n",
    "df['product'] = df['product'].map(product_mapping)"
   ]
  },
  {
   "cell_type": "code",
   "execution_count": 18,
   "id": "eb542490-c333-4a1b-b99c-bce09b0b936f",
   "metadata": {},
   "outputs": [
    {
     "name": "stdout",
     "output_type": "stream",
     "text": [
      "{'credit_card': 0, 'retail_banking': 1, 'credit_reporting': 2, 'mortgages_and_loans': 3, 'debt_collection': 4}\n"
     ]
    }
   ],
   "source": [
    "print(product_mapping)"
   ]
  },
  {
   "cell_type": "code",
   "execution_count": 19,
   "id": "c4627557-e47c-4c89-8d83-baf9fea598d0",
   "metadata": {},
   "outputs": [],
   "source": [
    "X_resampled, y_resampled = undersample_text_data(df['tweet'], df['product']) "
   ]
  },
  {
   "cell_type": "code",
   "execution_count": 20,
   "id": "8d00f084-8883-43fc-aa39-97efaf536f33",
   "metadata": {},
   "outputs": [
    {
     "data": {
      "image/png": "[encoded data removed]",
      "text/plain": [
       "<Figure size 1000x600 with 1 Axes>"
      ]
     },
     "metadata": {},
     "output_type": "display_data"
    }
   ],
   "source": [
    "df_resampled = pd.DataFrame({'Class': y_resampled})\n",
    "\n",
    "class_counts = df_resampled['Class'].value_counts().sort_index()\n",
    "\n",
    "plt.figure(figsize=(10, 6))\n",
    "sns.barplot(x=class_counts.index, y=class_counts.values, palette='viridis')\n",
    "\n",
    "plt.xlabel('Class')\n",
    "plt.ylabel('Number of Samples')\n",
    "plt.title('Distribution of Classes After Resampling')\n",
    "plt.show()"
   ]
  },
  {
   "cell_type": "code",
   "execution_count": 21,
   "id": "de76ef71-11b5-4362-8590-486d2e7c9b0c",
   "metadata": {},
   "outputs": [],
   "source": [
    "y_resampled_df = pd.DataFrame({'label': y_resampled})\n",
    "y_one_hot = pd.get_dummies(y_resampled_df['label'])\n",
    "\n",
    "y_final = y_one_hot.to_numpy()"
   ]
  },
  {
   "cell_type": "markdown",
   "id": "a55b41df-b25d-4194-a300-67d7de29b58e",
   "metadata": {},
   "source": [
    "# 4. Featurization"
   ]
  },
  {
   "cell_type": "markdown",
   "id": "0bf234fb",
   "metadata": {
    "id": "I3tjVGjeQIwh",
    "papermill": {
     "duration": 0.034612,
     "end_time": "2021-09-05T10:43:27.120811",
     "exception": false,
     "start_time": "2021-09-05T10:43:27.086199",
     "status": "completed"
    },
    "tags": []
   },
   "source": [
    "## 4.1 BAG OF WORDS"
   ]
  },
  {
   "cell_type": "code",
   "execution_count": 25,
   "id": "9eb3caf9-d78d-412a-8300-f9f4395f85a6",
   "metadata": {},
   "outputs": [],
   "source": [
    "preprocessed_reviews=X_resampled.copy()"
   ]
  },
  {
   "cell_type": "code",
   "execution_count": 26,
   "id": "33c017fb-5f8a-47fb-8927-9f84bcd56060",
   "metadata": {},
   "outputs": [
    {
     "name": "stdout",
     "output_type": "stream",
     "text": [
      "some feature names  ['aa' 'aaa' 'aaadvantage' 'aab' 'aaccount' 'aacount' 'aadvant'\n",
      " 'aadvantage' 'aadvantages' 'aadvatage' 'aafees' 'aafes' 'aag' 'aaid'\n",
      " 'aams' 'aan' 'aand' 'aany' 'aappeared' 'aapply' 'aaragon' 'aargon'\n",
      " 'aaron' 'aarp' 'aasessed' 'aasociated' 'ab' 'aba' 'aback' 'abad'\n",
      " 'abandon' 'abandonded' 'abandoned' 'abandoning' 'abandonment'\n",
      " 'abandonned' 'abartration' 'abate' 'abated' 'abatement' 'abbott'\n",
      " 'abbreviate' 'abbreviated' 'abbreviation' 'abc' 'abck' 'abd' 'abdicated'\n",
      " 'abdicating' 'abdication']\n",
      "==================================================\n",
      "the type of count vectorizer  <class 'scipy.sparse._csr.csr_matrix'>\n",
      "the shape of out text BOW vectorizer  (67675, 36943)\n",
      "the number of unique words  36943\n"
     ]
    }
   ],
   "source": [
    "#BoW\n",
    "count_vect = CountVectorizer() #in scikit-learn\n",
    "count_vect.fit(preprocessed_reviews)\n",
    "print(\"some feature names \", count_vect.get_feature_names_out()[:50])\n",
    "print('='*50)\n",
    "\n",
    "final_counts = count_vect.transform(preprocessed_reviews)\n",
    "print(\"the type of count vectorizer \",type(final_counts))\n",
    "print(\"the shape of out text BOW vectorizer \",final_counts.get_shape())\n",
    "print(\"the number of unique words \", final_counts.get_shape()[1])"
   ]
  },
  {
   "cell_type": "markdown",
   "id": "a59bf2ca-63cd-4aa8-b027-633678ffb957",
   "metadata": {},
   "source": [
    "## 4.2 Bi-Grams and n-Grams."
   ]
  },
  {
   "cell_type": "code",
   "execution_count": 27,
   "id": "a31cbe13-2854-4bf8-b1d2-6f7575f49390",
   "metadata": {},
   "outputs": [
    {
     "name": "stdout",
     "output_type": "stream",
     "text": [
      "the type of count vectorizer  <class 'scipy.sparse._csr.csr_matrix'>\n",
      "the shape of out text BOW vectorizer  (67675, 88357)\n",
      "the number of unique words including both unigrams and bigrams  88357\n"
     ]
    }
   ],
   "source": [
    "count_vect = CountVectorizer(ngram_range=(1,2), min_df=10, max_features=500000)\n",
    "final_bigram_counts = count_vect.fit_transform(preprocessed_reviews)\n",
    "print(\"the type of count vectorizer \",type(final_bigram_counts))\n",
    "print(\"the shape of out text BOW vectorizer \",final_bigram_counts.get_shape())\n",
    "print(\"the number of unique words including both unigrams and bigrams \", final_bigram_counts.get_shape()[1])"
   ]
  },
  {
   "cell_type": "markdown",
   "id": "0ec8d3a5-af8b-48ea-bbac-c605edfe66b0",
   "metadata": {},
   "source": [
    "## 4.3 TF-IDF"
   ]
  },
  {
   "cell_type": "code",
   "execution_count": 29,
   "id": "29900154-0a3f-4fa3-8875-f52720ba7c23",
   "metadata": {},
   "outputs": [
    {
     "name": "stdout",
     "output_type": "stream",
     "text": [
      "some sample features(unique words in the corpus) ['aa' 'aadvantage' 'aadvantage card' 'aafes' 'aargon' 'aargon agency'\n",
      " 'aargon collection' 'ab' 'ab inito' 'abandoned']\n",
      "==================================================\n",
      "the type of count vectorizer  <class 'scipy.sparse._csr.csr_matrix'>\n",
      "the shape of out text TFIDF vectorizer  (67675, 88357)\n",
      "the number of unique words including both unigrams and bigrams  88357\n"
     ]
    }
   ],
   "source": [
    "tf_idf_vect = TfidfVectorizer(ngram_range=(1,2), min_df=10)\n",
    "tf_idf_vect.fit(preprocessed_reviews)\n",
    "print(\"some sample features(unique words in the corpus)\",tf_idf_vect.get_feature_names_out()[0:10])\n",
    "print('='*50)\n",
    "\n",
    "final_tf_idf = tf_idf_vect.transform(preprocessed_reviews)\n",
    "print(\"the type of count vectorizer \",type(final_tf_idf))\n",
    "print(\"the shape of out text TFIDF vectorizer \",final_tf_idf.get_shape())\n",
    "print(\"the number of unique words including both unigrams and bigrams \", final_tf_idf.get_shape()[1])"
   ]
  },
  {
   "cell_type": "markdown",
   "id": "a9f4f424-8419-412e-918f-7ca867f6a564",
   "metadata": {},
   "source": [
    "## 4.4 Word2Vec"
   ]
  },
  {
   "cell_type": "markdown",
   "id": "f04b7060-c8eb-4bef-903a-83e27b32a047",
   "metadata": {},
   "source": [
    "### 4.4.1 Avg W2v"
   ]
  },
  {
   "cell_type": "code",
   "execution_count": 30,
   "id": "7fef980a-c62d-45eb-afcf-a5bd1e2d3f82",
   "metadata": {},
   "outputs": [],
   "source": [
    "import pandas as pd\n",
    "import numpy as np\n",
    "from gensim.models import KeyedVectors\n",
    "from scipy.sparse import csr_matrix\n",
    "from concurrent.futures import ThreadPoolExecutor, as_completed\n",
    "\n",
    "\n",
    "# Load the pre-trained word2vec model\n",
    "model = KeyedVectors.load_word2vec_format('GoogleNews-vectors-negative300.bin', binary=True)"
   ]
  },
  {
   "cell_type": "code",
   "execution_count": 31,
   "id": "f4691a44-5e43-4db8-9999-b819b320e8c2",
   "metadata": {},
   "outputs": [],
   "source": [
    "# Function to compute the average word2vec vector of a given review\n",
    "def average_w2v_vector(review, model):\n",
    "    words = review.split()  # Simple tokenization; consider using a tokenizer for better results\n",
    "    word_vectors = [model[word] for word in words if word in model]\n",
    "    if word_vectors:\n",
    "        return np.mean(word_vectors, axis=0)\n",
    "    else:\n",
    "        return np.zeros(model.vector_size)"
   ]
  },
  {
   "cell_type": "code",
   "execution_count": 32,
   "id": "3a3502ae-0c29-4d04-95ae-128fdee8325c",
   "metadata": {},
   "outputs": [],
   "source": [
    "def process_reviews_with_index(index_reviews, model):\n",
    "    indices, reviews = zip(*index_reviews)  # Unzip indices and reviews\n",
    "    vectors = [average_w2v_vector(review, model) for review in reviews]\n",
    "    return indices, np.array(vectors)\n",
    "\n",
    "# Parameters for parallel processing\n",
    "num_workers = 8 \n",
    "\n",
    "# Split DataFrame into chunks for parallel processing while keeping index\n",
    "def split_dataframe_with_index(df, num_chunks):\n",
    "    indices = df.index.tolist()\n",
    "    reviews = df.tolist()\n",
    "    chunks = np.array_split(list(zip(indices, reviews)), num_chunks)\n",
    "    return chunks"
   ]
  },
  {
   "cell_type": "code",
   "execution_count": 33,
   "id": "048d6946-719a-445f-9317-e3911951a4fb",
   "metadata": {},
   "outputs": [
    {
     "name": "stdout",
     "output_type": "stream",
     "text": [
      "the type of count vectorizer  <class 'scipy.sparse._csr.csr_matrix'>\n",
      "the shape of out text Avg. W2V vectorizer  (67675, 300)\n",
      "the number of unique words including Avg. W2V 300\n"
     ]
    }
   ],
   "source": [
    "# Using ThreadPoolExecutor for parallel processing\n",
    "chunks = split_dataframe_with_index(preprocessed_reviews, num_workers)\n",
    "results = []\n",
    "\n",
    "with ThreadPoolExecutor(max_workers=num_workers) as executor:\n",
    "    futures = [executor.submit(process_reviews_with_index, chunk, model) for chunk in chunks]\n",
    "    for future in as_completed(futures):\n",
    "        indices, vectors = future.result()\n",
    "        results.extend(zip(indices, vectors))\n",
    "\n",
    "# Sort results by index and combine vectors\n",
    "results.sort(key=lambda x: x[0])\n",
    "indices, vectors = zip(*results)\n",
    "\n",
    "# Convert the array to a scipy sparse matrix\n",
    "vectors = np.array(vectors)\n",
    "Avg_w2v_matrix = csr_matrix(vectors)\n",
    "\n",
    "print(\"the type of count vectorizer \",type(Avg_w2v_matrix))\n",
    "print(\"the shape of out text Avg. W2V vectorizer \",Avg_w2v_matrix.get_shape())\n",
    "print(\"the number of unique words including Avg. W2V\", Avg_w2v_matrix.get_shape()[1])"
   ]
  },
  {
   "cell_type": "code",
   "execution_count": 34,
   "id": "60e793bd-ea7f-44c8-bbfb-f8906d0de17c",
   "metadata": {},
   "outputs": [],
   "source": [
    "del(results)\n",
    "del(vectors)\n",
    "del(chunks)"
   ]
  },
  {
   "cell_type": "markdown",
   "id": "cf5dbaa9-4e22-4f6b-b4e0-0bde6891d6c9",
   "metadata": {},
   "source": [
    "# 5. Training & Evaluation"
   ]
  },
  {
   "cell_type": "markdown",
   "id": "4ada0bb3-155e-4571-83a1-53b7635da605",
   "metadata": {},
   "source": [
    "## 5.1 Logistic Regression"
   ]
  },
  {
   "cell_type": "code",
   "execution_count": 35,
   "id": "3bc87187-56c7-4b80-9249-4f9e2f55e310",
   "metadata": {},
   "outputs": [],
   "source": [
    "from sklearn.model_selection import train_test_split, StratifiedKFold, cross_val_score\n",
    "from sklearn.metrics import accuracy_score, confusion_matrix, classification_report\n",
    "from sklearn.linear_model import LogisticRegression\n",
    "from scipy.sparse import csr_matrix\n",
    "import numpy as np\n",
    "\n",
    "def evaluate_classification_model(X, y, dataset_size=1.0):\n",
    "    \"\"\"\n",
    "    Evaluate a multi-class classification model on vectorized text data using one-vs-rest classification and L1 regularization with 10-fold cross-validation.\n",
    "    \n",
    "    Parameters:\n",
    "    - X: scipy.sparse.csr_matrix\n",
    "        The feature matrix with vectorized text data in CSR format.\n",
    "    - y: np.ndarray\n",
    "        The true class labels in one-hot encoded format (binary matrix).\n",
    "    - dataset_size: float\n",
    "        The proportion of the dataset to use (between 0 and 1). Default is 1.0 (use the whole dataset).\n",
    "\n",
    "    Returns:\n",
    "    - mean_accuracy: float\n",
    "        The mean accuracy of the model across all folds.\n",
    "    - mean_conf_matrix: np.ndarray\n",
    "        The mean confusion matrix of the model across all folds.\n",
    "    - avg_classification_report: str\n",
    "        The average classification report of the model across all folds.\n",
    "    \"\"\"\n",
    "    \n",
    "    # Check that X is a CSR matrix\n",
    "    if not isinstance(X, csr_matrix):\n",
    "        raise TypeError(\"X should be a scipy.sparse.csr_matrix\")\n",
    "\n",
    "    # Validate dataset_size\n",
    "    if not (0 < dataset_size <= 1):\n",
    "        raise ValueError(\"dataset_size must be between 0 and 1\")\n",
    "\n",
    "    # Optionally select a subset of the data\n",
    "    if dataset_size < 1.0:\n",
    "        # Determine the number of samples to use\n",
    "        num_samples = int(X.shape[0] * dataset_size)\n",
    "        indices = np.random.choice(X.shape[0], num_samples, replace=False)\n",
    "        X = X[indices]\n",
    "        y = y[indices]\n",
    "\n",
    "    # Convert one-hot encoded labels to class labels\n",
    "    y_labels = np.argmax(y, axis=1)\n",
    "    \n",
    "    # Define the model with L1 regularization and parallel processing\n",
    "    model = LogisticRegression(\n",
    "        penalty='l1', \n",
    "        solver='saga', \n",
    "        max_iter=1000, \n",
    "        multi_class='ovr',\n",
    "        random_state=42,\n",
    "        n_jobs=-1  # Use all available cores for parallel processing\n",
    "    )\n",
    "    \n",
    "    # Define cross-validation strategy\n",
    "    skf = StratifiedKFold(n_splits=3, shuffle=True, random_state=42)\n",
    "    \n",
    "    accuracies = []\n",
    "    conf_matrices = []\n",
    "    reports = []\n",
    "\n",
    "    for train_index, test_index in skf.split(X, y_labels):\n",
    "        X_train, X_test = X[train_index], X[test_index]\n",
    "        y_train, y_test = y_labels[train_index], y_labels[test_index]\n",
    "        \n",
    "        # Fit the model on the training data\n",
    "        model.fit(X_train, y_train)\n",
    "        \n",
    "        # Predict on the test data\n",
    "        y_pred_labels = model.predict(X_test)\n",
    "        \n",
    "        # Convert predictions to one-hot encoding\n",
    "        y_pred = np.zeros((y_pred_labels.size, y_pred_labels.max() + 1))\n",
    "        y_pred[np.arange(y_pred_labels.size), y_pred_labels] = 1\n",
    "\n",
    "        # Convert y_test to one-hot encoding\n",
    "        y_test_onehot = np.zeros((y_test.size, y_test.max() + 1))\n",
    "        y_test_onehot[np.arange(y_test.size), y_test] = 1\n",
    "\n",
    "        # Compute accuracy and confusion matrix\n",
    "        accuracy = accuracy_score(np.argmax(y_test_onehot, axis=1), np.argmax(y_pred, axis=1))\n",
    "        conf_matrix = confusion_matrix(np.argmax(y_test_onehot, axis=1), np.argmax(y_pred, axis=1))\n",
    "\n",
    "        # Compute classification report\n",
    "        report = classification_report(np.argmax(y_test_onehot, axis=1), np.argmax(y_pred, axis=1), output_dict=True)\n",
    "        reports.append(report)\n",
    "\n",
    "        accuracies.append(accuracy)\n",
    "        conf_matrices.append(conf_matrix)\n",
    "\n",
    "    # Calculate mean accuracy and mean confusion matrix\n",
    "    mean_accuracy = np.mean(accuracies)\n",
    "    mean_conf_matrix = np.mean(conf_matrices, axis=0)\n",
    "    \n",
    "    # Compute average classification report\n",
    "    avg_report = {}\n",
    "    all_labels = list(reports[0].keys())\n",
    "    for label in all_labels:\n",
    "        if label == 'accuracy':\n",
    "            avg_report[label] = np.mean([report[label] for report in reports])\n",
    "        else:\n",
    "            avg_report[label] = {}\n",
    "            avg_report[label]['precision'] = np.mean([report[label]['precision'] for report in reports])\n",
    "            avg_report[label]['recall'] = np.mean([report[label]['recall'] for report in reports])\n",
    "            avg_report[label]['f1-score'] = np.mean([report[label]['f1-score'] for report in reports])\n",
    "            avg_report[label]['support'] = np.mean([report[label]['support'] for report in reports])\n",
    "    \n",
    "    avg_classification_report = classification_report(y_labels, model.predict(X), output_dict=True)\n",
    "\n",
    "    return mean_accuracy, mean_conf_matrix, avg_report"
   ]
  },
  {
   "cell_type": "markdown",
   "id": "bf4fae87-4336-49d0-8623-79edecfb7595",
   "metadata": {},
   "source": [
    "### 5.1.1 BOW"
   ]
  },
  {
   "cell_type": "code",
   "execution_count": 36,
   "id": "3388526f-ed6d-4ea5-a165-a43597107880",
   "metadata": {},
   "outputs": [
    {
     "name": "stderr",
     "output_type": "stream",
     "text": [
      "C:\\ProgramData\\anaconda3\\Lib\\site-packages\\sklearn\\linear_model\\_sag.py:350: ConvergenceWarning: The max_iter was reached which means the coef_ did not converge\n",
      "  warnings.warn(\n",
      "C:\\ProgramData\\anaconda3\\Lib\\site-packages\\sklearn\\linear_model\\_sag.py:350: ConvergenceWarning: The max_iter was reached which means the coef_ did not converge\n",
      "  warnings.warn(\n",
      "C:\\ProgramData\\anaconda3\\Lib\\site-packages\\sklearn\\linear_model\\_sag.py:350: ConvergenceWarning: The max_iter was reached which means the coef_ did not converge\n",
      "  warnings.warn(\n"
     ]
    },
    {
     "name": "stdout",
     "output_type": "stream",
     "text": [
      "Accuracy (Tuning): 0.8012417244578636\n",
      "Confusion Matrix (Tuning):\n",
      " [[358.          46.33333333  22.66666667  12.          15.66666667]\n",
      " [ 45.33333333 362.66666667   4.33333333   9.66666667   8.33333333]\n",
      " [ 21.66666667   5.33333333 381.          23.33333333  42.        ]\n",
      " [ 15.66666667  19.33333333  20.33333333 378.33333333  19.66666667]\n",
      " [ 21.33333333   9.          62.          24.33333333 327.33333333]]\n"
     ]
    }
   ],
   "source": [
    "# Evaluate with hyperparameter tuning\n",
    "accuracy_BOW, conf_matrix_BOW,report_BOW = evaluate_classification_model(final_counts,y_final,0.1)\n",
    "print(\"Accuracy (Tuning):\", accuracy_BOW)\n",
    "print(\"Confusion Matrix (Tuning):\\n\", conf_matrix_BOW)"
   ]
  },
  {
   "cell_type": "markdown",
   "id": "6d9146b8-12a7-4749-b397-b29e1ef21331",
   "metadata": {},
   "source": [
    "## 5.1.2 Bi-Grams & n-Grams"
   ]
  },
  {
   "cell_type": "code",
   "execution_count": 37,
   "id": "e439565b-a9c8-4d59-b3bb-e4fb13021f73",
   "metadata": {},
   "outputs": [
    {
     "name": "stderr",
     "output_type": "stream",
     "text": [
      "C:\\ProgramData\\anaconda3\\Lib\\site-packages\\sklearn\\linear_model\\_sag.py:350: ConvergenceWarning: The max_iter was reached which means the coef_ did not converge\n",
      "  warnings.warn(\n",
      "C:\\ProgramData\\anaconda3\\Lib\\site-packages\\sklearn\\linear_model\\_sag.py:350: ConvergenceWarning: The max_iter was reached which means the coef_ did not converge\n",
      "  warnings.warn(\n",
      "C:\\ProgramData\\anaconda3\\Lib\\site-packages\\sklearn\\linear_model\\_sag.py:350: ConvergenceWarning: The max_iter was reached which means the coef_ did not converge\n",
      "  warnings.warn(\n"
     ]
    },
    {
     "name": "stdout",
     "output_type": "stream",
     "text": [
      "Accuracy (Tuning): 0.8143938083481416\n",
      "Confusion Matrix (Tuning):\n",
      " [[347.66666667  52.66666667  24.66666667  11.          16.66666667]\n",
      " [ 39.66666667 385.66666667   3.66666667   8.33333333   4.66666667]\n",
      " [ 21.           3.66666667 381.66666667  22.33333333  37.33333333]\n",
      " [ 16.33333333  13.33333333  21.66666667 385.66666667  15.66666667]\n",
      " [ 15.33333333  10.66666667  55.33333333  24.66666667 336.33333333]]\n"
     ]
    }
   ],
   "source": [
    "accuracy_BIGram, conf_matrix_BIGram,report_BIGram = evaluate_classification_model(final_bigram_counts, y_final,0.1)\n",
    "print(\"Accuracy (Tuning):\", accuracy_BIGram)\n",
    "print(\"Confusion Matrix (Tuning):\\n\", conf_matrix_BIGram)"
   ]
  },
  {
   "cell_type": "markdown",
   "id": "c3de0ac4-4115-4507-953b-d0bd78b26578",
   "metadata": {},
   "source": [
    "## 5.1.3 TF-IDF"
   ]
  },
  {
   "cell_type": "code",
   "execution_count": 38,
   "id": "bdfc251d-7666-4dbb-8ee1-0f0d34b3c93b",
   "metadata": {},
   "outputs": [
    {
     "name": "stdout",
     "output_type": "stream",
     "text": [
      "Accuracy (Tuning): 0.8050830044083807\n",
      "Confusion Matrix (Tuning):\n",
      " [[346.33333333  49.33333333  24.          16.          10.33333333]\n",
      " [ 35.66666667 388.           6.33333333  12.           2.33333333]\n",
      " [ 21.           7.         359.66666667  33.66666667  39.66666667]\n",
      " [ 12.33333333  17.33333333  19.         382.          13.        ]\n",
      " [ 18.          16.33333333  60.66666667  25.66666667 340.        ]]\n"
     ]
    }
   ],
   "source": [
    "accuracy_IFIDF, conf_matrix_TFIDF,report_TFIDF = evaluate_classification_model(final_tf_idf, y_final,0.1)\n",
    "print(\"Accuracy (Tuning):\", accuracy_IFIDF)\n",
    "print(\"Confusion Matrix (Tuning):\\n\", conf_matrix_TFIDF)"
   ]
  },
  {
   "cell_type": "markdown",
   "id": "3c11b2c0-d398-4623-bc90-b575838ec203",
   "metadata": {},
   "source": [
    "## 5.1.4 Avg-Word2Vec"
   ]
  },
  {
   "cell_type": "code",
   "execution_count": 39,
   "id": "834c1916-893b-4372-bde6-d5642e1b65c5",
   "metadata": {},
   "outputs": [
    {
     "name": "stdout",
     "output_type": "stream",
     "text": [
      "Accuracy (Tuning): 0.28801507550858874\n",
      "Confusion Matrix (Tuning):\n",
      " [[173.66666667  79.          49.66666667  84.66666667  56.66666667]\n",
      " [ 99.33333333 164.33333333  71.          78.33333333  53.33333333]\n",
      " [106.33333333 121.33333333  98.66666667  81.33333333  51.66666667]\n",
      " [113.66666667  90.66666667  57.66666667 138.33333333  53.33333333]\n",
      " [113.          85.          69.66666667  90.33333333  74.66666667]]\n"
     ]
    }
   ],
   "source": [
    "accuracy_AVG_w2v, conf_matrix_AVG_w2v,report_w2v = evaluate_classification_model(Avg_w2v_matrix, y_final,0.1)\n",
    "print(\"Accuracy (Tuning):\", accuracy_AVG_w2v)\n",
    "print(\"Confusion Matrix (Tuning):\\n\", conf_matrix_AVG_w2v)"
   ]
  },
  {
   "cell_type": "markdown",
   "id": "08d92d46-a4cb-4056-a0fe-766d0ef35b83",
   "metadata": {},
   "source": [
    "## 5.2 SVM"
   ]
  },
  {
   "cell_type": "code",
   "execution_count": 40,
   "id": "8adb6115-29f3-4956-be64-ae253befa453",
   "metadata": {},
   "outputs": [],
   "source": [
    "from sklearn.svm import SVC\n",
    "\n",
    "def evaluate_classification_model_SVM(X, y, dataset_size=1.0):\n",
    "    \"\"\"\n",
    "    Evaluate a multi-class classification model on vectorized text data using one-vs-rest classification and SVM with RBF kernel with 10-fold cross-validation.\n",
    "    \n",
    "    Parameters:\n",
    "    - X: scipy.sparse.csr_matrix\n",
    "        The feature matrix with vectorized text data in CSR format.\n",
    "    - y: np.ndarray\n",
    "        The true class labels in one-hot encoded format (binary matrix).\n",
    "    - dataset_size: float\n",
    "        The proportion of the dataset to use (between 0 and 1). Default is 1.0 (use the whole dataset).\n",
    "\n",
    "    Returns:\n",
    "    - mean_accuracy: float\n",
    "        The mean accuracy of the model across all folds.\n",
    "    - mean_conf_matrix: np.ndarray\n",
    "        The mean confusion matrix of the model across all folds.\n",
    "    \"\"\"\n",
    "    \n",
    "    # Check that X is a CSR matrix\n",
    "    if not isinstance(X, csr_matrix):\n",
    "        raise TypeError(\"X should be a scipy.sparse.csr_matrix\")\n",
    "\n",
    "    # Validate dataset_size\n",
    "    if not (0 < dataset_size <= 1):\n",
    "        raise ValueError(\"dataset_size must be between 0 and 1\")\n",
    "\n",
    "    # Optionally select a subset of the data\n",
    "    if dataset_size < 1.0:\n",
    "        # Determine the number of samples to use\n",
    "        num_samples = int(X.shape[0] * dataset_size)\n",
    "        indices = np.random.choice(X.shape[0], num_samples, replace=False)\n",
    "        X = X[indices]\n",
    "        y = y[indices]\n",
    "\n",
    "    # Convert one-hot encoded labels to class labels\n",
    "    y_labels = np.argmax(y, axis=1)\n",
    "    \n",
    "    # Define the model with RBF kernel and parallel processing\n",
    "    model = SVC(\n",
    "        kernel='rbf', \n",
    "        C=1.0,          # Regularization parameter\n",
    "        gamma='scale',  # Kernel coefficient\n",
    "        decision_function_shape='ovr',\n",
    "        random_state=42\n",
    "    )\n",
    "    \n",
    "    # Define cross-validation strategy\n",
    "    skf = StratifiedKFold(n_splits=3, shuffle=True, random_state=42)\n",
    "    \n",
    "    accuracies = []\n",
    "    conf_matrices = []\n",
    "    reports = []\n",
    "    \n",
    "    for train_index, test_index in skf.split(X, y_labels):\n",
    "        X_train, X_test = X[train_index], X[test_index]\n",
    "        y_train, y_test = y_labels[train_index], y_labels[test_index]\n",
    "        \n",
    "        # Fit the model on the training data\n",
    "        model.fit(X_train, y_train)\n",
    "        \n",
    "        # Predict on the test data\n",
    "        y_pred_labels = model.predict(X_test)\n",
    "        \n",
    "        # Convert predictions to one-hot encoding\n",
    "        y_pred = np.zeros((y_pred_labels.size, y_pred_labels.max() + 1))\n",
    "        y_pred[np.arange(y_pred_labels.size), y_pred_labels] = 1\n",
    "\n",
    "        # Convert y_test to one-hot encoding\n",
    "        y_test_onehot = np.zeros((y_test.size, y_test.max() + 1))\n",
    "        y_test_onehot[np.arange(y_test.size), y_test] = 1\n",
    "\n",
    "        # Compute accuracy and confusion matrix\n",
    "        accuracy = accuracy_score(np.argmax(y_test_onehot, axis=1), np.argmax(y_pred, axis=1))\n",
    "        conf_matrix = confusion_matrix(np.argmax(y_test_onehot, axis=1), np.argmax(y_pred, axis=1))\n",
    "        report = classification_report(np.argmax(y_test_onehot, axis=1), np.argmax(y_pred, axis=1), output_dict=True)\n",
    "\n",
    "        accuracies.append(accuracy)\n",
    "        conf_matrices.append(conf_matrix)\n",
    "        reports.append(report)\n",
    "\n",
    "    # Calculate mean accuracy and mean confusion matrix\n",
    "    mean_accuracy = np.mean(accuracies)\n",
    "    mean_conf_matrix = np.mean(conf_matrices, axis=0)\n",
    "\n",
    "    avg_report = {}\n",
    "    all_labels = list(reports[0].keys())\n",
    "    for label in all_labels:\n",
    "        if label == 'accuracy':\n",
    "            avg_report[label] = np.mean([report[label] for report in reports])\n",
    "        else:\n",
    "            avg_report[label] = {}\n",
    "            avg_report[label]['precision'] = np.mean([report[label]['precision'] for report in reports])\n",
    "            avg_report[label]['recall'] = np.mean([report[label]['recall'] for report in reports])\n",
    "            avg_report[label]['f1-score'] = np.mean([report[label]['f1-score'] for report in reports])\n",
    "            avg_report[label]['support'] = np.mean([report[label]['support'] for report in reports])\n",
    "    \n",
    "    avg_classification_report = classification_report(y_labels, model.predict(X), output_dict=True)\n",
    "\n",
    "    return mean_accuracy, mean_conf_matrix, avg_report"
   ]
  },
  {
   "cell_type": "markdown",
   "id": "8fff55c9-4633-4009-86aa-5b75d49ace93",
   "metadata": {},
   "source": [
    "### 5.2.1 BOW"
   ]
  },
  {
   "cell_type": "code",
   "execution_count": 41,
   "id": "0c814366-eddd-4769-91db-8626e49f7632",
   "metadata": {},
   "outputs": [
    {
     "name": "stdout",
     "output_type": "stream",
     "text": [
      "Accuracy (Tuning): 0.7846899194330433\n",
      "Confusion Matrix (Tuning):\n",
      " [[345.          52.33333333  25.          29.          15.        ]\n",
      " [ 29.         384.33333333   7.66666667  24.33333333   2.33333333]\n",
      " [ 15.66666667   5.66666667 353.66666667  34.          30.66666667]\n",
      " [ 12.          21.33333333  28.66666667 380.66666667  14.66666667]\n",
      " [ 17.          15.          75.66666667  30.66666667 306.33333333]]\n"
     ]
    }
   ],
   "source": [
    "# Evaluate with hyperparameter tuning\n",
    "accuracy_BOW_SVM, conf_matrix_BOW_SVM,report_BOW_SVM = evaluate_classification_model_SVM(final_counts,y_final,0.1)\n",
    "print(\"Accuracy (Tuning):\", accuracy_BOW_SVM)\n",
    "print(\"Confusion Matrix (Tuning):\\n\", conf_matrix_BOW_SVM)"
   ]
  },
  {
   "cell_type": "markdown",
   "id": "f9c0e6db-6b1e-4562-8ff8-32de16f6bb4f",
   "metadata": {},
   "source": [
    "### 5.2.2 Bi-Grams and n-Grams"
   ]
  },
  {
   "cell_type": "code",
   "execution_count": 42,
   "id": "b04c1576-51eb-4d8f-9a7a-004899a46d4d",
   "metadata": {},
   "outputs": [
    {
     "name": "stdout",
     "output_type": "stream",
     "text": [
      "Accuracy (Tuning): 0.7818812803698636\n",
      "Confusion Matrix (Tuning):\n",
      " [[341.          56.66666667  27.          26.66666667  11.66666667]\n",
      " [ 32.33333333 388.66666667   5.          19.           4.33333333]\n",
      " [ 22.33333333   7.66666667 373.33333333  33.66666667  28.66666667]\n",
      " [ 14.66666667  22.66666667  29.66666667 350.          11.66666667]\n",
      " [ 20.66666667  15.33333333  69.33333333  33.         310.66666667]]\n"
     ]
    }
   ],
   "source": [
    "accuracy_BIGram_SVM, conf_matrix_BIGram_SVM,report_BIGram_SVM = evaluate_classification_model_SVM(final_bigram_counts, y_final,0.1)\n",
    "print(\"Accuracy (Tuning):\", accuracy_BIGram_SVM)\n",
    "print(\"Confusion Matrix (Tuning):\\n\", conf_matrix_BIGram_SVM)"
   ]
  },
  {
   "cell_type": "markdown",
   "id": "85dec3cb-9d49-474e-90fa-1b9f745ded50",
   "metadata": {},
   "source": [
    "### 5.2.3 TF-IDF"
   ]
  },
  {
   "cell_type": "code",
   "execution_count": 43,
   "id": "2302f15a-d292-4d71-8186-64ad2e0bd5fc",
   "metadata": {},
   "outputs": [
    {
     "name": "stdout",
     "output_type": "stream",
     "text": [
      "Accuracy (Tuning): 0.8303526966604289\n",
      "Confusion Matrix (Tuning):\n",
      " [[345.66666667  40.          19.66666667  14.66666667  11.66666667]\n",
      " [ 38.33333333 416.33333333   3.           7.33333333   4.33333333]\n",
      " [ 16.66666667   3.         361.66666667  30.33333333  34.33333333]\n",
      " [  9.33333333  18.66666667  13.33333333 410.33333333  15.66666667]\n",
      " [ 20.66666667   5.33333333  52.          24.33333333 339.        ]]\n"
     ]
    }
   ],
   "source": [
    "accuracy_IFIDF_SVM, conf_matrix_TFIDF_SVM,report_IFIDF_SVM = evaluate_classification_model_SVM(final_tf_idf, y_final,0.1)\n",
    "print(\"Accuracy (Tuning):\", accuracy_IFIDF_SVM)\n",
    "print(\"Confusion Matrix (Tuning):\\n\", conf_matrix_TFIDF_SVM)"
   ]
  },
  {
   "cell_type": "markdown",
   "id": "66b5319a-729b-4396-92f6-afb28ad9b54d",
   "metadata": {},
   "source": [
    "### 5.2.4 Avg Word2Vec"
   ]
  },
  {
   "cell_type": "code",
   "execution_count": 44,
   "id": "2ea09cbc-2147-417d-ab2d-c20a55a5130d",
   "metadata": {},
   "outputs": [
    {
     "name": "stdout",
     "output_type": "stream",
     "text": [
      "Accuracy (Tuning): 0.30752104595514046\n",
      "Confusion Matrix (Tuning):\n",
      " [[183.66666667  67.33333333  32.          75.66666667  95.33333333]\n",
      " [106.33333333 128.          55.          66.33333333  99.33333333]\n",
      " [ 90.33333333  79.66666667  83.66666667  72.          92.        ]\n",
      " [119.33333333  51.66666667  43.         136.          98.        ]\n",
      " [123.          69.33333333  46.          80.33333333 162.33333333]]\n"
     ]
    }
   ],
   "source": [
    "accuracy_AVG_w2v_SVM, conf_matrix_AVG_w2v_SVM,report_w2v_SVM = evaluate_classification_model_SVM(Avg_w2v_matrix, y_final,0.1)\n",
    "print(\"Accuracy (Tuning):\", accuracy_AVG_w2v_SVM)\n",
    "print(\"Confusion Matrix (Tuning):\\n\", conf_matrix_AVG_w2v_SVM)"
   ]
  },
  {
   "cell_type": "markdown",
   "id": "24e661fa-6cb0-473a-a027-9398bfd6de63",
   "metadata": {},
   "source": [
    "## 5.3 Naive Bayes"
   ]
  },
  {
   "cell_type": "code",
   "execution_count": 49,
   "id": "5f221ac1-2bf9-4c9e-a90f-acaebe806c4a",
   "metadata": {},
   "outputs": [],
   "source": [
    "from sklearn.naive_bayes import MultinomialNB\n",
    "\n",
    "def evaluate_classification_model_NB(X, y, dataset_size=1.0):\n",
    "    \"\"\"\n",
    "    Evaluate a multi-class classification model on vectorized text data using Naive Bayes classifier with 10-fold cross-validation.\n",
    "    \n",
    "    Parameters:\n",
    "    - X: scipy.sparse.csr_matrix\n",
    "        The feature matrix with vectorized text data in CSR format.\n",
    "    - y: np.ndarray\n",
    "        The true class labels in one-hot encoded format (binary matrix).\n",
    "    - dataset_size: float\n",
    "        The proportion of the dataset to use (between 0 and 1). Default is 1.0 (use the whole dataset).\n",
    "\n",
    "    Returns:\n",
    "    - mean_accuracy: float\n",
    "        The mean accuracy of the model across all folds.\n",
    "    - mean_conf_matrix: np.ndarray\n",
    "        The mean confusion matrix of the model across all folds.\n",
    "    \"\"\"\n",
    "    \n",
    "    # Check that X is a CSR matrix\n",
    "    if not isinstance(X, csr_matrix):\n",
    "        raise TypeError(\"X should be a scipy.sparse.csr_matrix\")\n",
    "\n",
    "    # Validate dataset_size\n",
    "    if not (0 < dataset_size <= 1):\n",
    "        raise ValueError(\"dataset_size must be between 0 and 1\")\n",
    "\n",
    "    # Optionally select a subset of the data\n",
    "    if dataset_size < 1.0:\n",
    "        # Determine the number of samples to use\n",
    "        num_samples = int(X.shape[0] * dataset_size)\n",
    "        indices = np.random.choice(X.shape[0], num_samples, replace=False)\n",
    "        X = X[indices]\n",
    "        y = y[indices]\n",
    "\n",
    "    # Convert one-hot encoded labels to class labels\n",
    "    y_labels = np.argmax(y, axis=1)\n",
    "    \n",
    "    # Define the model for Naive Bayes\n",
    "    model = MultinomialNB()\n",
    "    \n",
    "    # Define cross-validation strategy\n",
    "    skf = StratifiedKFold(n_splits=10, shuffle=True, random_state=42)\n",
    "    \n",
    "    accuracies = []\n",
    "    conf_matrices = []\n",
    "    reports = []\n",
    "    \n",
    "    for train_index, test_index in skf.split(X, y_labels):\n",
    "        X_train, X_test = X[train_index], X[test_index]\n",
    "        y_train, y_test = y_labels[train_index], y_labels[test_index]\n",
    "        \n",
    "        # Fit the model on the training data\n",
    "        model.fit(X_train, y_train)\n",
    "        \n",
    "        # Predict on the test data\n",
    "        y_pred_labels = model.predict(X_test)\n",
    "        \n",
    "        # Compute accuracy and confusion matrix\n",
    "        accuracy = accuracy_score(y_test, y_pred_labels)\n",
    "        conf_matrix = confusion_matrix(y_test, y_pred_labels)\n",
    "        report = classification_report(y_test, y_pred_labels, output_dict=True)\n",
    "        \n",
    "        reports.append(report)\n",
    "        accuracies.append(accuracy)\n",
    "        conf_matrices.append(conf_matrix)\n",
    "\n",
    "    # Calculate mean accuracy and mean confusion matrix\n",
    "    mean_accuracy = np.mean(accuracies)\n",
    "    mean_conf_matrix = np.mean(conf_matrices, axis=0)\n",
    "\n",
    "    # Compute average classification report\n",
    "    avg_report = {}\n",
    "    all_labels = list(reports[0].keys())\n",
    "    for label in all_labels:\n",
    "        if label == 'accuracy':\n",
    "            avg_report[label] = np.mean([report[label] for report in reports])\n",
    "        else:\n",
    "            avg_report[label] = {}\n",
    "            avg_report[label]['precision'] = np.mean([report[label]['precision'] for report in reports])\n",
    "            avg_report[label]['recall'] = np.mean([report[label]['recall'] for report in reports])\n",
    "            avg_report[label]['f1-score'] = np.mean([report[label]['f1-score'] for report in reports])\n",
    "            avg_report[label]['support'] = np.mean([report[label]['support'] for report in reports])\n",
    "    \n",
    "    avg_classification_report = classification_report(y_labels, model.predict(X), output_dict=True)\n",
    "\n",
    "    return mean_accuracy, mean_conf_matrix, avg_report\n"
   ]
  },
  {
   "cell_type": "markdown",
   "id": "9be8d15b-c801-46dc-bee3-f81045719e27",
   "metadata": {},
   "source": [
    "### 5.3.1 BOW"
   ]
  },
  {
   "cell_type": "code",
   "execution_count": 50,
   "id": "c1b71cf8-0587-47a6-9133-2dc3e277f5c0",
   "metadata": {},
   "outputs": [
    {
     "name": "stdout",
     "output_type": "stream",
     "text": [
      "Accuracy (Tuning): 0.8025661419593927\n",
      "Confusion Matrix (Tuning):\n",
      " [[103.4  17.5   5.8   7.8   1.9]\n",
      " [ 12.7 119.5   0.5   2.8   0.3]\n",
      " [  7.4   1.8 105.2  10.3  11.8]\n",
      " [  2.3   2.9   5.1 119.4   2.4]\n",
      " [  7.1   2.9  17.5  12.8  95.6]]\n"
     ]
    }
   ],
   "source": [
    "# Evaluate with hyperparameter tuning\n",
    "accuracy_BOW_NB, conf_matrix_BOW_NB,report_BOW_NB = evaluate_classification_model_NB(final_counts,y_final,0.1)\n",
    "print(\"Accuracy (Tuning):\", accuracy_BOW_NB)\n",
    "print(\"Confusion Matrix (Tuning):\\n\", conf_matrix_BOW_NB)"
   ]
  },
  {
   "cell_type": "markdown",
   "id": "bc80e1cd-f2f6-4fb9-b22d-98fc3c350d1b",
   "metadata": {},
   "source": [
    "### 5.3.2 Bi-Grams and n-Grams"
   ]
  },
  {
   "cell_type": "code",
   "execution_count": 51,
   "id": "172fc4de-f5ac-41a9-a575-f2c8fcf62fae",
   "metadata": {},
   "outputs": [
    {
     "name": "stdout",
     "output_type": "stream",
     "text": [
      "Accuracy (Tuning): 0.820890545654777\n",
      "Confusion Matrix (Tuning):\n",
      " [[110.2  13.6   5.1   5.4   1.9]\n",
      " [ 10.4 113.8   0.4   2.2   0.5]\n",
      " [  9.6   1.3 105.6   9.1  10.5]\n",
      " [  4.3   2.3   3.3 125.7   3.4]\n",
      " [  8.5   3.   13.4  13.  100.2]]\n"
     ]
    }
   ],
   "source": [
    "accuracy_BIGram_NB, conf_matrix_BIGram_NB,report_BIGram_NB = evaluate_classification_model_NB(final_bigram_counts, y_final,0.1)\n",
    "print(\"Accuracy (Tuning):\", accuracy_BIGram_NB)\n",
    "print(\"Confusion Matrix (Tuning):\\n\", conf_matrix_BIGram_NB)"
   ]
  },
  {
   "cell_type": "markdown",
   "id": "799e085f-c2fe-4a2d-879b-f56173467ec6",
   "metadata": {},
   "source": [
    "### 5.3.3 Tf-IDF"
   ]
  },
  {
   "cell_type": "code",
   "execution_count": 52,
   "id": "73f9c2ce-b386-48a2-9aec-1052c778a4ae",
   "metadata": {},
   "outputs": [
    {
     "name": "stdout",
     "output_type": "stream",
     "text": [
      "Accuracy (Tuning): 0.8240007691433666\n",
      "Confusion Matrix (Tuning):\n",
      " [[106.8  12.9   3.9   7.3   3.5]\n",
      " [  9.5 117.1   1.2   4.    0.8]\n",
      " [  6.5   0.7 100.6   9.9  15. ]\n",
      " [  2.2   2.2   2.8 127.3   3.3]\n",
      " [  6.6   1.8  11.8  13.2 105.8]]\n"
     ]
    }
   ],
   "source": [
    "accuracy_IFIDF_NB, conf_matrix_TFIDF_NB,report_TFIDF_NB = evaluate_classification_model_NB(final_tf_idf, y_final,0.1)\n",
    "print(\"Accuracy (Tuning):\", accuracy_IFIDF_NB)\n",
    "print(\"Confusion Matrix (Tuning):\\n\", conf_matrix_TFIDF_NB)"
   ]
  },
  {
   "cell_type": "markdown",
   "id": "c3ac931a",
   "metadata": {
    "id": "latter-checkout",
    "papermill": {
     "duration": 0.038044,
     "end_time": "2021-09-05T10:44:12.463746",
     "exception": false,
     "start_time": "2021-09-05T10:44:12.425702",
     "status": "completed"
    },
    "tags": []
   },
   "source": [
    "# 5.4 LSTM"
   ]
  },
  {
   "cell_type": "code",
   "execution_count": 26,
   "id": "125c2e8b-183e-44e5-8b16-a37ef0ad737a",
   "metadata": {},
   "outputs": [],
   "source": [
    "import numpy as np\n",
    "import pandas as pd\n",
    "from tensorflow.keras.preprocessing.text import Tokenizer\n",
    "from tensorflow.keras.preprocessing.sequence import pad_sequences\n",
    "from tensorflow.keras.models import Sequential\n",
    "from tensorflow.keras.layers import Embedding, LSTM, Bidirectional, Dense, Dropout, BatchNormalization\n",
    "from tensorflow.keras.optimizers import Adam\n",
    "from sklearn.metrics import accuracy_score, confusion_matrix,classification_report\n",
    "from tensorflow.keras.initializers import HeNormal\n",
    "import pickle\n",
    "\n",
    "def evaluate_classification_model_BiLSTM(X_texts, y, max_words=10000, max_len=3000, embedding_dim=300, dropout_rate=0.5, dataset_size=1.0, epochs=10, batch_size=32, model_path='model.h5', tokenizer_path='tokenizer.pkl', class_names=None):\n",
    "    \"\"\"\n",
    "    Train a multi-class classification model on text data using a Bi-directional LSTM with Dropout and Batch Normalization,\n",
    "    and output the model summary, accuracy, and confusion matrix. Also saves the model and tokenizer.\n",
    "    \n",
    "    Parameters:\n",
    "    - X_texts: list of str or pd.Series\n",
    "        The list of text samples or a Pandas Series.\n",
    "    - y: np.ndarray\n",
    "        The true class labels in one-hot encoded format (binary matrix).\n",
    "    - max_words: int\n",
    "        The maximum number of words to consider in the tokenizer.\n",
    "    - max_len: int\n",
    "        The maximum length of sequences after padding.\n",
    "    - embedding_dim: int\n",
    "        The dimension of the embedding vectors.\n",
    "    - dropout_rate: float\n",
    "        The dropout rate for regularization.\n",
    "    - dataset_size: float\n",
    "        The proportion of the dataset to use (between 0 and 1). Default is 1.0 (use the whole dataset).\n",
    "    - epochs: int\n",
    "        The number of epochs to train the model.\n",
    "    - batch_size: int\n",
    "        The batch size for training.\n",
    "    - model_path: str\n",
    "        Path to save the trained model.\n",
    "    - tokenizer_path: str\n",
    "        Path to save the tokenizer.\n",
    "    - class_names: list of str\n",
    "        List of class names for mapping class indices to class names.\n",
    "\n",
    "    Returns:\n",
    "    - model: tensorflow.keras.models.Model\n",
    "        The trained Bi-directional LSTM model.\n",
    "    - accuracy: float\n",
    "        The accuracy of the model on the entire dataset.\n",
    "    - conf_matrix: np.ndarray\n",
    "        The confusion matrix of the model on the entire dataset.\n",
    "    \"\"\"\n",
    "    \n",
    "    # Validate dataset_size\n",
    "    if not (0 < dataset_size <= 1):\n",
    "        raise ValueError(\"dataset_size must be between 0 and 1\")\n",
    "\n",
    "    # Optionally select a subset of the data\n",
    "    if dataset_size < 1.0:\n",
    "        num_samples = int(len(X_texts) * dataset_size)\n",
    "        indices = np.random.choice(len(X_texts), num_samples, replace=False)\n",
    "        X_texts = X_texts.iloc[indices] if isinstance(X_texts, pd.Series) else [X_texts[i] for i in indices]\n",
    "        y = y[indices]\n",
    "\n",
    "    # Tokenize and pad the text data\n",
    "    tokenizer = Tokenizer(num_words=max_words)\n",
    "    tokenizer.fit_on_texts(X_texts)\n",
    "    sequences = tokenizer.texts_to_sequences(X_texts)\n",
    "    X_padded = pad_sequences(sequences, maxlen=max_len)\n",
    "\n",
    "    # Convert one-hot encoded labels to class labels\n",
    "    y_labels = np.argmax(y, axis=1)\n",
    "    \n",
    "    he_normal = HeNormal()  # Initialize HeNormal initializer\n",
    "    model = Sequential([\n",
    "            Embedding(input_dim=max_words, output_dim=embedding_dim, input_length=max_len, embeddings_initializer=he_normal),\n",
    "            Bidirectional(LSTM(units=64, return_sequences=True, kernel_initializer=he_normal, recurrent_initializer=he_normal)),\n",
    "            BatchNormalization(),\n",
    "            Dropout(dropout_rate),\n",
    "            Bidirectional(LSTM(units=64, return_sequences=False, kernel_initializer=he_normal, recurrent_initializer=he_normal)),\n",
    "            BatchNormalization(),\n",
    "            Dropout(dropout_rate),\n",
    "            Dense(y.shape[1], activation='softmax', kernel_initializer=he_normal)\n",
    "        ])\n",
    "    model.compile(optimizer=Adam(), loss='categorical_crossentropy', metrics=['accuracy'])\n",
    "\n",
    "    # Create and print the model summary\n",
    "    model.build((None, max_len))\n",
    "    print(\"Model Summary:\")\n",
    "    model.summary()\n",
    "    \n",
    "    # Fit the model on the entire dataset\n",
    "    model.fit(X_padded, y, epochs=epochs, batch_size=batch_size, verbose=1)\n",
    "\n",
    "    # Predict on the entire dataset to calculate accuracy and confusion matrix\n",
    "    y_pred_probs = model.predict(X_padded)\n",
    "    y_pred_labels = np.argmax(y_pred_probs, axis=1)\n",
    "    \n",
    "    # Compute accuracy and confusion matrix\n",
    "    accuracy = accuracy_score(y_labels, y_pred_labels)\n",
    "    conf_matrix = confusion_matrix(y_labels, y_pred_labels)\n",
    "    report = classification_report(y_labels, y_pred_labels)\n",
    "\n",
    "    # Save the model\n",
    "    model.save(model_path)\n",
    "    \n",
    "    # Save the tokenizer\n",
    "    with open(tokenizer_path, 'wb') as f:\n",
    "        pickle.dump(tokenizer, f)\n",
    "    \n",
    "    # Save the class names if provided\n",
    "    if class_names:\n",
    "        with open('class_names.pkl', 'wb') as f:\n",
    "            pickle.dump(class_names, f)\n",
    "\n",
    "    return accuracy, conf_matrix,report"
   ]
  },
  {
   "cell_type": "code",
   "execution_count": 27,
   "id": "0df61b3e-4f7e-425f-9307-eff7130e719a",
   "metadata": {},
   "outputs": [
    {
     "name": "stdout",
     "output_type": "stream",
     "text": [
      "2684\n"
     ]
    }
   ],
   "source": [
    "def count_words(text):\n",
    "    return len(text.split())\n",
    "\n",
    "temp = df['tweet'].apply(count_words)\n",
    "\n",
    "max_word_count = temp.max()\n",
    "print(max_word_count)"
   ]
  },
  {
   "cell_type": "code",
   "execution_count": 28,
   "id": "be73d134-4711-4b0d-b36b-ccf63f444532",
   "metadata": {},
   "outputs": [
    {
     "name": "stdout",
     "output_type": "stream",
     "text": [
      "0th Percentile: 1.0\n",
      "10th Percentile: 14.0\n",
      "50th Percentile: 50.0\n",
      "90th Percentile: 168.0\n",
      "99th Percentile: 525.0\n",
      "99.9th Percentile: 1257.5900000000256\n",
      "99.99th Percentile: 2074.758999999991\n",
      "100th Percentile: 2684.0\n"
     ]
    }
   ],
   "source": [
    "percentiles = [0, 10, 50, 90, 99,99.9,99.99,100]  # Define the percentiles you want to compute\n",
    "percentile_values = np.percentile(temp, percentiles)\n",
    "    \n",
    "for perc, value in zip(percentiles, percentile_values):\n",
    "    print(f\"{perc}th Percentile: {value}\")"
   ]
  },
  {
   "cell_type": "code",
   "execution_count": 29,
   "id": "affe66fb-3dc5-4879-92d4-8d9524875f2e",
   "metadata": {},
   "outputs": [
    {
     "name": "stdout",
     "output_type": "stream",
     "text": [
      "Model Summary:\n"
     ]
    },
    {
     "name": "stderr",
     "output_type": "stream",
     "text": [
      "C:\\Users\\admin\\AppData\\Roaming\\Python\\Python311\\site-packages\\keras\\src\\layers\\core\\embedding.py:90: UserWarning: Argument `input_length` is deprecated. Just remove it.\n",
      "  warnings.warn(\n"
     ]
    },
    {
     "data": {
      "text/html": [
       "<pre style=\"white-space:pre;overflow-x:auto;line-height:normal;font-family:Menlo,'DejaVu Sans Mono',consolas,'Courier New',monospace\"><span style=\"font-weight: bold\">Model: \"sequential_1\"</span>\n",
       "</pre>\n"
      ],
      "text/plain": [
       "\u001b[1mModel: \"sequential_1\"\u001b[0m\n"
      ]
     },
     "metadata": {},
     "output_type": "display_data"
    },
    {
     "data": {
      "text/html": [
       "<pre style=\"white-space:pre;overflow-x:auto;line-height:normal;font-family:Menlo,'DejaVu Sans Mono',consolas,'Courier New',monospace\">┏━━━━━━━━━━━━━━━━━━━━━━━━━━━━━━━━━━━━━━┳━━━━━━━━━━━━━━━━━━━━━━━━━━━━━┳━━━━━━━━━━━━━━━━━┓\n",
       "┃<span style=\"font-weight: bold\"> Layer (type)                         </span>┃<span style=\"font-weight: bold\"> Output Shape                </span>┃<span style=\"font-weight: bold\">         Param # </span>┃\n",
       "┡━━━━━━━━━━━━━━━━━━━━━━━━━━━━━━━━━━━━━━╇━━━━━━━━━━━━━━━━━━━━━━━━━━━━━╇━━━━━━━━━━━━━━━━━┩\n",
       "│ embedding_1 (<span style=\"color: #0087ff; text-decoration-color: #0087ff\">Embedding</span>)              │ (<span style=\"color: #00d7ff; text-decoration-color: #00d7ff\">None</span>, <span style=\"color: #00af00; text-decoration-color: #00af00\">500</span>, <span style=\"color: #00af00; text-decoration-color: #00af00\">80</span>)             │         <span style=\"color: #00af00; text-decoration-color: #00af00\">800,000</span> │\n",
       "├──────────────────────────────────────┼─────────────────────────────┼─────────────────┤\n",
       "│ bidirectional_2 (<span style=\"color: #0087ff; text-decoration-color: #0087ff\">Bidirectional</span>)      │ (<span style=\"color: #00d7ff; text-decoration-color: #00d7ff\">None</span>, <span style=\"color: #00af00; text-decoration-color: #00af00\">500</span>, <span style=\"color: #00af00; text-decoration-color: #00af00\">128</span>)            │          <span style=\"color: #00af00; text-decoration-color: #00af00\">74,240</span> │\n",
       "├──────────────────────────────────────┼─────────────────────────────┼─────────────────┤\n",
       "│ batch_normalization_2                │ (<span style=\"color: #00d7ff; text-decoration-color: #00d7ff\">None</span>, <span style=\"color: #00af00; text-decoration-color: #00af00\">500</span>, <span style=\"color: #00af00; text-decoration-color: #00af00\">128</span>)            │             <span style=\"color: #00af00; text-decoration-color: #00af00\">512</span> │\n",
       "│ (<span style=\"color: #0087ff; text-decoration-color: #0087ff\">BatchNormalization</span>)                 │                             │                 │\n",
       "├──────────────────────────────────────┼─────────────────────────────┼─────────────────┤\n",
       "│ dropout_2 (<span style=\"color: #0087ff; text-decoration-color: #0087ff\">Dropout</span>)                  │ (<span style=\"color: #00d7ff; text-decoration-color: #00d7ff\">None</span>, <span style=\"color: #00af00; text-decoration-color: #00af00\">500</span>, <span style=\"color: #00af00; text-decoration-color: #00af00\">128</span>)            │               <span style=\"color: #00af00; text-decoration-color: #00af00\">0</span> │\n",
       "├──────────────────────────────────────┼─────────────────────────────┼─────────────────┤\n",
       "│ bidirectional_3 (<span style=\"color: #0087ff; text-decoration-color: #0087ff\">Bidirectional</span>)      │ (<span style=\"color: #00d7ff; text-decoration-color: #00d7ff\">None</span>, <span style=\"color: #00af00; text-decoration-color: #00af00\">128</span>)                 │          <span style=\"color: #00af00; text-decoration-color: #00af00\">98,816</span> │\n",
       "├──────────────────────────────────────┼─────────────────────────────┼─────────────────┤\n",
       "│ batch_normalization_3                │ (<span style=\"color: #00d7ff; text-decoration-color: #00d7ff\">None</span>, <span style=\"color: #00af00; text-decoration-color: #00af00\">128</span>)                 │             <span style=\"color: #00af00; text-decoration-color: #00af00\">512</span> │\n",
       "│ (<span style=\"color: #0087ff; text-decoration-color: #0087ff\">BatchNormalization</span>)                 │                             │                 │\n",
       "├──────────────────────────────────────┼─────────────────────────────┼─────────────────┤\n",
       "│ dropout_3 (<span style=\"color: #0087ff; text-decoration-color: #0087ff\">Dropout</span>)                  │ (<span style=\"color: #00d7ff; text-decoration-color: #00d7ff\">None</span>, <span style=\"color: #00af00; text-decoration-color: #00af00\">128</span>)                 │               <span style=\"color: #00af00; text-decoration-color: #00af00\">0</span> │\n",
       "├──────────────────────────────────────┼─────────────────────────────┼─────────────────┤\n",
       "│ dense_1 (<span style=\"color: #0087ff; text-decoration-color: #0087ff\">Dense</span>)                      │ (<span style=\"color: #00d7ff; text-decoration-color: #00d7ff\">None</span>, <span style=\"color: #00af00; text-decoration-color: #00af00\">5</span>)                   │             <span style=\"color: #00af00; text-decoration-color: #00af00\">645</span> │\n",
       "└──────────────────────────────────────┴─────────────────────────────┴─────────────────┘\n",
       "</pre>\n"
      ],
      "text/plain": [
       "┏━━━━━━━━━━━━━━━━━━━━━━━━━━━━━━━━━━━━━━┳━━━━━━━━━━━━━━━━━━━━━━━━━━━━━┳━━━━━━━━━━━━━━━━━┓\n",
       "┃\u001b[1m \u001b[0m\u001b[1mLayer (type)                        \u001b[0m\u001b[1m \u001b[0m┃\u001b[1m \u001b[0m\u001b[1mOutput Shape               \u001b[0m\u001b[1m \u001b[0m┃\u001b[1m \u001b[0m\u001b[1m        Param #\u001b[0m\u001b[1m \u001b[0m┃\n",
       "┡━━━━━━━━━━━━━━━━━━━━━━━━━━━━━━━━━━━━━━╇━━━━━━━━━━━━━━━━━━━━━━━━━━━━━╇━━━━━━━━━━━━━━━━━┩\n",
       "│ embedding_1 (\u001b[38;5;33mEmbedding\u001b[0m)              │ (\u001b[38;5;45mNone\u001b[0m, \u001b[38;5;34m500\u001b[0m, \u001b[38;5;34m80\u001b[0m)             │         \u001b[38;5;34m800,000\u001b[0m │\n",
       "├──────────────────────────────────────┼─────────────────────────────┼─────────────────┤\n",
       "│ bidirectional_2 (\u001b[38;5;33mBidirectional\u001b[0m)      │ (\u001b[38;5;45mNone\u001b[0m, \u001b[38;5;34m500\u001b[0m, \u001b[38;5;34m128\u001b[0m)            │          \u001b[38;5;34m74,240\u001b[0m │\n",
       "├──────────────────────────────────────┼─────────────────────────────┼─────────────────┤\n",
       "│ batch_normalization_2                │ (\u001b[38;5;45mNone\u001b[0m, \u001b[38;5;34m500\u001b[0m, \u001b[38;5;34m128\u001b[0m)            │             \u001b[38;5;34m512\u001b[0m │\n",
       "│ (\u001b[38;5;33mBatchNormalization\u001b[0m)                 │                             │                 │\n",
       "├──────────────────────────────────────┼─────────────────────────────┼─────────────────┤\n",
       "│ dropout_2 (\u001b[38;5;33mDropout\u001b[0m)                  │ (\u001b[38;5;45mNone\u001b[0m, \u001b[38;5;34m500\u001b[0m, \u001b[38;5;34m128\u001b[0m)            │               \u001b[38;5;34m0\u001b[0m │\n",
       "├──────────────────────────────────────┼─────────────────────────────┼─────────────────┤\n",
       "│ bidirectional_3 (\u001b[38;5;33mBidirectional\u001b[0m)      │ (\u001b[38;5;45mNone\u001b[0m, \u001b[38;5;34m128\u001b[0m)                 │          \u001b[38;5;34m98,816\u001b[0m │\n",
       "├──────────────────────────────────────┼─────────────────────────────┼─────────────────┤\n",
       "│ batch_normalization_3                │ (\u001b[38;5;45mNone\u001b[0m, \u001b[38;5;34m128\u001b[0m)                 │             \u001b[38;5;34m512\u001b[0m │\n",
       "│ (\u001b[38;5;33mBatchNormalization\u001b[0m)                 │                             │                 │\n",
       "├──────────────────────────────────────┼─────────────────────────────┼─────────────────┤\n",
       "│ dropout_3 (\u001b[38;5;33mDropout\u001b[0m)                  │ (\u001b[38;5;45mNone\u001b[0m, \u001b[38;5;34m128\u001b[0m)                 │               \u001b[38;5;34m0\u001b[0m │\n",
       "├──────────────────────────────────────┼─────────────────────────────┼─────────────────┤\n",
       "│ dense_1 (\u001b[38;5;33mDense\u001b[0m)                      │ (\u001b[38;5;45mNone\u001b[0m, \u001b[38;5;34m5\u001b[0m)                   │             \u001b[38;5;34m645\u001b[0m │\n",
       "└──────────────────────────────────────┴─────────────────────────────┴─────────────────┘\n"
      ]
     },
     "metadata": {},
     "output_type": "display_data"
    },
    {
     "data": {
      "text/html": [
       "<pre style=\"white-space:pre;overflow-x:auto;line-height:normal;font-family:Menlo,'DejaVu Sans Mono',consolas,'Courier New',monospace\"><span style=\"font-weight: bold\"> Total params: </span><span style=\"color: #00af00; text-decoration-color: #00af00\">974,725</span> (3.72 MB)\n",
       "</pre>\n"
      ],
      "text/plain": [
       "\u001b[1m Total params: \u001b[0m\u001b[38;5;34m974,725\u001b[0m (3.72 MB)\n"
      ]
     },
     "metadata": {},
     "output_type": "display_data"
    },
    {
     "data": {
      "text/html": [
       "<pre style=\"white-space:pre;overflow-x:auto;line-height:normal;font-family:Menlo,'DejaVu Sans Mono',consolas,'Courier New',monospace\"><span style=\"font-weight: bold\"> Trainable params: </span><span style=\"color: #00af00; text-decoration-color: #00af00\">974,213</span> (3.72 MB)\n",
       "</pre>\n"
      ],
      "text/plain": [
       "\u001b[1m Trainable params: \u001b[0m\u001b[38;5;34m974,213\u001b[0m (3.72 MB)\n"
      ]
     },
     "metadata": {},
     "output_type": "display_data"
    },
    {
     "data": {
      "text/html": [
       "<pre style=\"white-space:pre;overflow-x:auto;line-height:normal;font-family:Menlo,'DejaVu Sans Mono',consolas,'Courier New',monospace\"><span style=\"font-weight: bold\"> Non-trainable params: </span><span style=\"color: #00af00; text-decoration-color: #00af00\">512</span> (2.00 KB)\n",
       "</pre>\n"
      ],
      "text/plain": [
       "\u001b[1m Non-trainable params: \u001b[0m\u001b[38;5;34m512\u001b[0m (2.00 KB)\n"
      ]
     },
     "metadata": {},
     "output_type": "display_data"
    },
    {
     "name": "stdout",
     "output_type": "stream",
     "text": [
      "Epoch 1/10\n",
      "\u001b[1m2115/2115\u001b[0m \u001b[32m━━━━━━━━━━━━━━━━━━━━\u001b[0m\u001b[37m\u001b[0m \u001b[1m1262s\u001b[0m 592ms/step - accuracy: 0.6058 - loss: 1.0485\n",
      "Epoch 2/10\n",
      "\u001b[1m2115/2115\u001b[0m \u001b[32m━━━━━━━━━━━━━━━━━━━━\u001b[0m\u001b[37m\u001b[0m \u001b[1m1257s\u001b[0m 594ms/step - accuracy: 0.8429 - loss: 0.4785\n",
      "Epoch 3/10\n",
      "\u001b[1m2115/2115\u001b[0m \u001b[32m━━━━━━━━━━━━━━━━━━━━\u001b[0m\u001b[37m\u001b[0m \u001b[1m1232s\u001b[0m 583ms/step - accuracy: 0.8642 - loss: 0.4113\n",
      "Epoch 4/10\n",
      "\u001b[1m2115/2115\u001b[0m \u001b[32m━━━━━━━━━━━━━━━━━━━━\u001b[0m\u001b[37m\u001b[0m \u001b[1m1211s\u001b[0m 573ms/step - accuracy: 0.8743 - loss: 0.3845\n",
      "Epoch 5/10\n",
      "\u001b[1m2115/2115\u001b[0m \u001b[32m━━━━━━━━━━━━━━━━━━━━\u001b[0m\u001b[37m\u001b[0m \u001b[1m1232s\u001b[0m 582ms/step - accuracy: 0.8832 - loss: 0.3526\n",
      "Epoch 6/10\n",
      "\u001b[1m2115/2115\u001b[0m \u001b[32m━━━━━━━━━━━━━━━━━━━━\u001b[0m\u001b[37m\u001b[0m \u001b[1m1248s\u001b[0m 590ms/step - accuracy: 0.8976 - loss: 0.3115\n",
      "Epoch 7/10\n",
      "\u001b[1m2115/2115\u001b[0m \u001b[32m━━━━━━━━━━━━━━━━━━━━\u001b[0m\u001b[37m\u001b[0m \u001b[1m1267s\u001b[0m 599ms/step - accuracy: 0.9075 - loss: 0.2827\n",
      "Epoch 8/10\n",
      "\u001b[1m2115/2115\u001b[0m \u001b[32m━━━━━━━━━━━━━━━━━━━━\u001b[0m\u001b[37m\u001b[0m \u001b[1m1250s\u001b[0m 591ms/step - accuracy: 0.9151 - loss: 0.2605\n",
      "Epoch 9/10\n",
      "\u001b[1m2115/2115\u001b[0m \u001b[32m━━━━━━━━━━━━━━━━━━━━\u001b[0m\u001b[37m\u001b[0m \u001b[1m1257s\u001b[0m 594ms/step - accuracy: 0.9302 - loss: 0.2191\n",
      "Epoch 10/10\n",
      "\u001b[1m2115/2115\u001b[0m \u001b[32m━━━━━━━━━━━━━━━━━━━━\u001b[0m\u001b[37m\u001b[0m \u001b[1m1251s\u001b[0m 592ms/step - accuracy: 0.9398 - loss: 0.1884\n",
      "\u001b[1m2115/2115\u001b[0m \u001b[32m━━━━━━━━━━━━━━━━━━━━\u001b[0m\u001b[37m\u001b[0m \u001b[1m291s\u001b[0m 137ms/step\n"
     ]
    },
    {
     "name": "stderr",
     "output_type": "stream",
     "text": [
      "WARNING:absl:You are saving your model as an HDF5 file via `model.save()` or `keras.saving.save_model(model)`. This file format is considered legacy. We recommend using instead the native Keras format, e.g. `model.save('my_model.keras')` or `keras.saving.save_model(model, 'my_model.keras')`. \n"
     ]
    }
   ],
   "source": [
    "accuracy_LSTM, conf_matrix_LSTM,report_LSTM =evaluate_classification_model_BiLSTM(X_resampled, y_final, max_words=10000, max_len=500, embedding_dim=80, dropout_rate=0.2, dataset_size=1)"
   ]
  },
  {
   "cell_type": "code",
   "execution_count": 30,
   "id": "25722c1f-d518-4c0a-9757-67154ec09bda",
   "metadata": {},
   "outputs": [
    {
     "name": "stdout",
     "output_type": "stream",
     "text": [
      "0.9556113779091245\n",
      "[[13173   187    79    31    65]\n",
      " [  242 13233    14    41     5]\n",
      " [  366    28 12752   166   223]\n",
      " [  222   108    80 13046    79]\n",
      " [  362    70   463   173 12467]]\n"
     ]
    }
   ],
   "source": [
    "print(accuracy_LSTM)\n",
    "print(conf_matrix_LSTM)"
   ]
  },
  {
   "cell_type": "code",
   "execution_count": 1,
   "id": "2bda579b-8d53-4ad0-868f-15554f9851d9",
   "metadata": {},
   "outputs": [
    {
     "name": "stdout",
     "output_type": "stream",
     "text": [
      "Precision per class: [0.917020536025061, 0.9711580801409071, 0.9524947714371078, 0.9694582745039756, 0.9710257808240517]\n",
      "Recall per class: [0.9732545253047654, 0.9776874769117104, 0.9421499815293684, 0.9638714444033986, 0.9210934613963797]\n",
      "F1-Score per class: [0.9443010752688171, 0.9744118405066087, 0.9472941351261003, 0.9666567871962063, 0.9454007734890422]\n",
      "Average Precision: 0.9562314885862205\n",
      "Average Recall: 0.9556113779091244\n",
      "Average F1-Score: 0.955612922317355\n"
     ]
    }
   ],
   "source": [
    "import numpy as np\n",
    "\n",
    "# Confusion Matrix\n",
    "conf_matrix = np.array([\n",
    "    [13173,   187,    79,    31,    65],\n",
    "    [  242, 13233,    14,    41,     5],\n",
    "    [  366,    28, 12752,   166,   223],\n",
    "    [  222,   108,    80, 13046,    79],\n",
    "    [  362,    70,   463,   173, 12467]\n",
    "])\n",
    "\n",
    "# Number of classes\n",
    "num_classes = conf_matrix.shape[0]\n",
    "\n",
    "# Initialize metrics\n",
    "precisions = []\n",
    "recalls = []\n",
    "f1_scores = []\n",
    "\n",
    "# Compute precision, recall, and F1-score for each class\n",
    "for i in range(num_classes):\n",
    "    TP = conf_matrix[i, i]\n",
    "    FP = np.sum(conf_matrix[:, i]) - TP\n",
    "    FN = np.sum(conf_matrix[i, :]) - TP\n",
    "    TN = np.sum(conf_matrix) - (TP + FP + FN)\n",
    "\n",
    "    precision = TP / (TP + FP) if (TP + FP) > 0 else 0\n",
    "    recall = TP / (TP + FN) if (TP + FN) > 0 else 0\n",
    "    f1_score = 2 * (precision * recall) / (precision + recall) if (precision + recall) > 0 else 0\n",
    "\n",
    "    precisions.append(precision)\n",
    "    recalls.append(recall)\n",
    "    f1_scores.append(f1_score)\n",
    "\n",
    "# Average metrics\n",
    "precision_avg = np.mean(precisions)\n",
    "recall_avg = np.mean(recalls)\n",
    "f1_score_avg = np.mean(f1_scores)\n",
    "\n",
    "# Output results\n",
    "print(f\"Precision per class: {precisions}\")\n",
    "print(f\"Recall per class: {recalls}\")\n",
    "print(f\"F1-Score per class: {f1_scores}\")\n",
    "print(f\"Average Precision: {precision_avg}\")\n",
    "print(f\"Average Recall: {recall_avg}\")\n",
    "print(f\"Average F1-Score: {f1_score_avg}\")\n"
   ]
  },
  {
   "cell_type": "code",
   "execution_count": null,
   "id": "a234173e-0368-4d89-a9b6-d85d8d5bc665",
   "metadata": {},
   "outputs": [],
   "source": [
    "!streamlit run C:\\Users\\admin\\Vivek\\ML\\CFPB\\Complain.py"
   ]
  },
  {
   "cell_type": "code",
   "execution_count": 1,
   "id": "3492316a-41a7-4e79-8f63-113c9d0b4d4b",
   "metadata": {},
   "outputs": [],
   "source": [
    "import os\n",
    "os.environ['PYTHONIOENCODING'] = 'utf-8'"
   ]
  },
  {
   "cell_type": "code",
   "execution_count": null,
   "id": "07c99f4f-932b-4073-836b-ba878923cabe",
   "metadata": {},
   "outputs": [],
   "source": []
  },
  {
   "cell_type": "code",
   "execution_count": null,
   "id": "0d8d7c52-279b-41c8-b8fa-4356aed26709",
   "metadata": {},
   "outputs": [],
   "source": []
  },
  {
   "cell_type": "code",
   "execution_count": null,
   "id": "22102503-6edd-43f0-9c28-11d86100deb2",
   "metadata": {},
   "outputs": [],
   "source": []
  },
  {
   "cell_type": "code",
   "execution_count": null,
   "id": "6398e5d2-1371-41fa-b836-43492202b751",
   "metadata": {},
   "outputs": [],
   "source": []
  }
 ],
 "metadata": {
  "kernelspec": {
   "display_name": "Python 3 (ipykernel)",
   "language": "python",
   "name": "python3"
  },
  "language_info": {
   "codemirror_mode": {
    "name": "ipython",
    "version": 3
   },
   "file_extension": ".py",
   "mimetype": "text/x-python",
   "name": "python",
   "nbconvert_exporter": "python",
   "pygments_lexer": "ipython3",
   "version": "3.11.7"
  },
  "papermill": {
   "default_parameters": {},
   "duration": 1271.544894,
   "end_time": "2021-09-05T11:04:23.729195",
   "environment_variables": {},
   "exception": null,
   "input_path": "__notebook__.ipynb",
   "output_path": "__notebook__.ipynb",
   "parameters": {},
   "start_time": "2021-09-05T10:43:12.184301",
   "version": "2.3.3"
  }
 },
 "nbformat": 4,
 "nbformat_minor": 5
}
